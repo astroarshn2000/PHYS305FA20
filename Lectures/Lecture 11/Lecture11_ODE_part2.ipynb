{
 "cells": [
  {
   "cell_type": "markdown",
   "metadata": {},
   "source": [
    "# Announcements\n",
    "- Problem 3 posted on D2L, due on 9/21/2020. Submission of notebooks encouraged(one per problem set, each problem labeled)\n",
    "- Solutions to Monday's breakout room exercise posted on D2L in ``Lecture 9``\n",
    "- Markdown cheat sheet posted on D2L in ``Course Notes``"
   ]
  },
  {
   "cell_type": "markdown",
   "metadata": {},
   "source": [
    "<style>\n",
    "@import url(https://www.numfys.net/static/css/nbstyle.css);\n",
    "</style>\n",
    "<a href=\"https://www.numfys.net\"><img class=\"logo\" /></a>\n",
    "\n",
    "# Ordinary Differential Equations - higher order methods\n",
    "\n",
    "<section class=\"post-meta\">\n",
    "Based on notes and notebooks by Niels Henrik Aase, Thorvald Ballestad, Vasilis Paschalidis and Jon Andreas Støvneng\n",
    "</section>\n"
   ]
  },
  {
   "cell_type": "markdown",
   "metadata": {},
   "source": [
    "## Recap\n",
    "\n",
    "\n",
    "Physics equations of motion require the solution of ordinary\n",
    "differential equations (ODE). While the vast majority of equations in\n",
    "Physics are partial differential equations, ordinary differential\n",
    "equations pop-up in scenarios where a high degree of symmetry and/or\n",
    "stationarity (time-independence) is imposed (e.g., stationary and\n",
    "spherically symmetric). For example, in Newtonian gravity the\n",
    "equation for the gravitational potential is\n",
    "\n",
    "$$\n",
    "\\nabla^2 \\Phi = 4\\pi G \\rho,\n",
    "$$\n",
    "but in spherical symmetry this becomes an ODE\n",
    "\n",
    "$$\n",
    "\\frac{1}{r^2}\\frac{d}{dr}\\left(r^2\\frac{d}{dr} \\Phi\\right) = 4\\pi G \\rho.\n",
    "$$\n",
    "\n",
    "The Newtonian equation of motion is also a second-order ODE in time (acceleration=force/mass),\n",
    "$$\n",
    "\\frac{d^2 x}{dt^2} = F/m\n",
    "$$\n",
    "For a very complex density distribution or complicated\n",
    "(time-dependent) forces, these last equations are not easily solved\n",
    "analytically. So, in such cases we need to solve the ODEs numerically.\n",
    "There are multiple ways one can numerically solve ODEs, and we will\n",
    "review here some of these methods including the Euler, and Runge-Kutta\n",
    "methods. \n",
    "\n",
    "### Initial value problems\n",
    "An initial value problem (IVP) for ODEs is described by the following\n",
    "equations\n",
    "$$\n",
    "\\frac{d}{dt} y(t)=g(y(t), t), a \\leq t \\leq b,\\;\\; \\mbox{ Initial conditions: } y(a)=\\alpha\n",
    "$$\n",
    "for a single ODE, and\n",
    "$$\n",
    "\\frac{d}{dt} \\vec y=\\vec G(y(t), t), a \\leq t \\leq b,\\;\\; \\mbox{ Initial conditions: } \\vec y(a)=\\vec\\alpha,\n",
    "$$\n",
    "where\n",
    "$$\n",
    "\\vec y =(y_1, y_2, \\ldots y_n), \\ \\vec G =(g_1(\\vec y(t), t), g_2(\\vec y(t), t) \\ldots g_n(\\vec y(t), t)).\n",
    "$$\n",
    "for a system of coupled ODEs.\n",
    "\n",
    "Before we decide to code any differential equation in a computer it is\n",
    "always important to be able to answer the following questions:\n",
    "- (1) Does the ODE have a solution? \n",
    "- (2) Is the ODE solution unique for a given initial conditions? \n",
    "- (3) Does the solution depend continuously on the initial conditions? \n",
    "\n",
    "All three questions point to the concept of\n",
    "well-posedness of the IVP. *If the answer is NO to any of these 3\n",
    "questions, the IVP is not well-posed, and it is redundant to try to\n",
    "solve the ODE as an IVP, as the numerical algorithm will fail.* In this\n",
    "first section we will introduce the mathematical background for\n",
    "answering the above questions.\n",
    "\n",
    "\n",
    "#### Definition: Well-posedness of the IVP\n",
    "The IVP\n",
    "$$\\frac{dy}{dt}=g(y,t), a \\leq t \\leq b, \\mbox{ Initial conditions: } y(a)=\\alpha\n",
    "$$\n",
    "is __well-posed__ if\n",
    "- A unique solution $y(t)$ exists\n",
    "- There exist constants $\\epsilon_0>0$, $k>0$ such that $\\forall\n",
    "  \\epsilon >0$ with $\\epsilon_0 > \\epsilon >0$, whenever $\\delta(t)$\n",
    "  is continuous with $|\\delta(t)| < \\epsilon$ $\\forall t \\in [a,b]$,\n",
    "  and $\\delta_0 < \\epsilon$, the IVP\n",
    "$$    \\frac{dz}{dt}=g(z,t)+\\delta(t), a \\leq t \\leq b, \\mbox{ Initial conditions: } z(a)=\\alpha+\\delta_0 \\label{pert}\\tag{1}\n",
    "$$  has a unique solution $z(t)$ that satisfies\n",
    "$$    |z(t)-y(t)| < k \\epsilon_0, \\ \\forall t \\in [a,b].\\label{stab}\\tag{2}$$  \n",
    "  \n",
    "\n",
    "#### Theorem \n",
    "Assume $D = \\{(y,t)\\ |-\\infty < y < \\infty,\\ a \\leq t \\leq b\\}$, where $g(y,t)$ is continuous and is\n",
    "Lipschitz continuous in $y$ on $D$, then the IVP\n",
    "$$\\frac{dy}{dt}=g(y,t), a \\leq t \\leq b, \\mbox{ Initial conditions: } y(a)=\\alpha$$\n",
    "is well-posed.\n",
    "\n",
    "Well-posedness is a fundamental property of initial value problems for\n",
    "ordinary and partial differential equations. If a differential\n",
    "equation does not admit a well-posed initial value problem, then we\n",
    "cannot integrate it numerically.If a small perturbation either in\n",
    "initial conditions or in the right-hand-side of Eq.\\ref{pert} leads\n",
    "the difference between the solution $z(t)$ and $y(t)$ to grow without\n",
    "bound, then this problem is ill-posed and cannot be integrated in a\n",
    "computer. The reason is that computers will always have finite error,\n",
    "i.e., will always apply small perturbations in the form of either\n",
    "truncation or round-off error. *More specifically well-posedness\n",
    "implies continuous dependence on the initial data.*\n"
   ]
  },
  {
   "cell_type": "markdown",
   "metadata": {},
   "source": [
    "## Algorithms for initial value problem ODEs\n",
    "\n",
    "\n",
    "Assume we have a first-order differential equation which can be expressed in the form\n",
    "\n",
    "$$ \\frac{dy}{dt} = g(y,t) $$\n",
    "\n",
    "We will solve this on constant-interval mesh of the independent variable $t$ defined by\n",
    "\n",
    "$$ t_n = t_0 + n h $$\n",
    "\n",
    "### Forward-Euler method\n",
    "\n",
    "In Lecture 10 we derived Euler's method, which simply solves the first-order forward difference approximation to $dy/dt$\n",
    "\n",
    "$$ \\frac{y_{i+1}-y_i}{h} = g(y_i,t_i)$$\n",
    "\n",
    "as\n",
    "\n",
    "$$ y_{i+1} = y_i + h g(y_i,t_i) \\label{Euler_fwd}\\tag{3}$$"
   ]
  },
  {
   "cell_type": "code",
   "execution_count": 3,
   "metadata": {},
   "outputs": [],
   "source": [
    "# Importing the necessary libraries\n",
    "import numpy as np # NumPy is used to generate arrays and to perform some mathematical operations\n",
    "import matplotlib.pyplot as plt # Used for plotting results\n",
    "\n"
   ]
  },
  {
   "cell_type": "code",
   "execution_count": 4,
   "metadata": {},
   "outputs": [],
   "source": [
    "def forwardEuler_step(t, y, h, g, *P):\n",
    "    \"\"\"\n",
    "    Implements a single step of the forward-Euler finite-difference scheme\n",
    "    Parameters:\n",
    "            t: time t\n",
    "            y: Numerical approximation of y at time t\n",
    "            h: Step size\n",
    "            g: RHS of our ODE (RHS = Right hand side). Can be any function with signature g(t,y,*P).\n",
    "            *P: tuple of parameters, arguments to g\n",
    "        Returns:\n",
    "            next_y: Numerical approximation of y at time t+h\n",
    "    \"\"\"\n",
    "    next_y = y + h*g(t, y, *P)\n",
    "    return next_y\n",
    "\n"
   ]
  },
  {
   "cell_type": "markdown",
   "metadata": {},
   "source": [
    "We now need some sort of framework which will take this function and do the integration for us. Let's rewrite `full_Euler` from Lecture 10 to be more general:"
   ]
  },
  {
   "cell_type": "code",
   "execution_count": 5,
   "metadata": {},
   "outputs": [],
   "source": [
    "def odeSolve(t0, y0, tmax, h, g, method, *P):\n",
    "    \"\"\" A full numerical aproximation of an ODE in a set time interval. Performs consecutive steps of `method`\n",
    "    with step size h from start time until the end time. Also takes into account the initial values of the ODE\n",
    "    \n",
    "    Parameters:\n",
    "            t0: start time\n",
    "            y0 : Initial condition for y at t = t0\n",
    "            tmax: The end of the interval where the `method` is integrated, t_N\n",
    "            h: Step size\n",
    "            g: RHS of our ODE (RHS = Right hand side). Can be any function with signature g(t,y,*P).\n",
    "            *P: tuple of parameters, arguments to g\n",
    "        Returns:\n",
    "            t_list: Evenly spaced discrete list of time with spacing h. \n",
    "                    Starting time = start_t, and end time = end_t \n",
    "            y_list: Numerical approximation of y at times t_list\n",
    "    \"\"\"    \n",
    "    # make the t-mesh; guarantees we stop precisely at tmax\n",
    "    t_list = np.arange(t0,tmax+h,h)\n",
    "    # allocate space for the solution\n",
    "    y_list = np.zeros_like(t_list)\n",
    "    # set the initial condition\n",
    "    y_list[0] = y0\n",
    "    \n",
    "    # find out the size of the t-mesh, and then integrate forward one meshpoint per iteration of the loop\n",
    "    n, = t_list.shape\n",
    "    for i in range(0,n-1):\n",
    "        y_list[i+1] = method(t_list[i], y_list[i], h, g, *P)\n",
    "        \n",
    "    # return the solution\n",
    "    return t_list,y_list"
   ]
  },
  {
   "cell_type": "markdown",
   "metadata": {},
   "source": [
    "Armed with this machinery, let's set up another simple problem and try it out.\n",
    "\n",
    "Last time, we looked at exponential growth, let's solve exponential decay this time:\n",
    "\n",
    "$$ \\frac{dy}{dt} = - c y, \\quad y[0] = 1 $$\n",
    "\n",
    "First, we provide a function to implement the RHS:"
   ]
  },
  {
   "cell_type": "code",
   "execution_count": 6,
   "metadata": {},
   "outputs": [],
   "source": [
    "def expRHS(t, y, c):\n",
    "    \"\"\"\n",
    "    Implements the RHS (y'(x)) of the DE\n",
    "    \"\"\"\n",
    "    return -c*y"
   ]
  },
  {
   "cell_type": "markdown",
   "metadata": {},
   "source": [
    "Now we set up the problem to compute and plot the result, along with a plot of the magnitude of the fractional error"
   ]
  },
  {
   "cell_type": "code",
   "execution_count": 7,
   "metadata": {},
   "outputs": [
    {
     "data": {
      "image/png": "[encoded data removed]",
      "text/plain": [
       "<Figure size 432x288 with 2 Axes>"
      ]
     },
     "metadata": {
      "needs_background": "light"
     },
     "output_type": "display_data"
    }
   ],
   "source": [
    "# set up problem\n",
    "c = 1.0\n",
    "h = 0.5\n",
    "t0 = 0.0\n",
    "y0 = 1.0\n",
    "tmax = 5.0\n",
    "\n",
    "# call the solver\n",
    "t, y = odeSolve(t0, y0, tmax, h, expRHS, forwardEuler_step, c)\n",
    "\n",
    "# plot the result\n",
    "fig,ax = plt.subplots(1,2)\n",
    "ax[0].plot(t,y,'o')\n",
    "ans = np.exp(-c*t)\n",
    "ax[0].plot(t,ans,'r')\n",
    "ax[0].set_xlabel('t')\n",
    "ax[0].set_ylabel('y')\n",
    "\n",
    "# along with the errors\n",
    "err = np.abs((ans-y)/ans)\n",
    "ax[1].plot(t, err, 'r')\n",
    "ax[1].plot(t, err, 'o')\n",
    "ax[1].set_xlabel('t')\n",
    "ax[1].set_ylabel('fractional error')\n",
    "\n",
    "\n",
    "# this gives better spacing between axes\n",
    "plt.tight_layout()\n",
    "plt.show()"
   ]
  },
  {
   "cell_type": "markdown",
   "metadata": {},
   "source": [
    "In developing the forward Euler method, we expanded the solution about time $t$,\n",
    "the beginning of the interval; we can just as easily expand backwards about\n",
    "$t+h$\n",
    "\\begin{equation}\n",
    "  f(t) = f(t+h) - h f'(t+h) + \\frac{h^2}{2} f''(t+h) + \\dots\n",
    "\\end{equation}\n",
    "Proceeding as before, keeping terms to $\\mathcal{O}(h)$, we have\n",
    "\\begin{equation}\n",
    "  \\frac{f(t+h)-f(t)}{h} = f'(t+h)\n",
    "\\end{equation}\n",
    "giving the update formula\n",
    "\\begin{equation}\n",
    "  f_{i+1} = f_i + f'_{i+1}\n",
    "\\end{equation}\n",
    "In this case, we may not be able to solve explicitly for $f_{i-1}$ since $f'$ is evaluated at $t+h$\n",
    "on the RHS; this is known as an _implicit_ method. While we may not be able to solve for\n",
    "$f_{n+1}$ analytically, we can always employ some of the numerical techniques for solving nonlinear\n",
    "equations we have already seen.\n",
    "\n",
    "The Euler method as implemented above corresponds to Riemann integration for integral - we use the value of the function at $t_i$ to predict its value at $t_{i+1}$. Similar to integration of functions, we can improve convergence by turning to higher order methods that include information on the function behavior within $[t_i,t_{i+1}]$.\n",
    "\n",
    "\n",
    "![image](midpoint.png)\n",
    "\n",
    "##### Explicit midpoint method\n",
    "By averaging the forward- and backward-Euler scheme, it can be shown that\n",
    "\\begin{equation}\n",
    "  f_{i+1} = f_i + \\frac{h}{2} f'_{i+\\frac{1}{2}} + \\mathcal{O}(h^3)\n",
    "\\end{equation}\n",
    "but now we need to evaluate the derivative at the half time step! \n",
    "\n",
    "With some Taylor expansion tricks, it can be shown that the explict midpoint method can be written as\n",
    "\n",
    "\\begin{align}\n",
    "\\begin{split}\n",
    "y_{i+\\frac{1}{2}} &= y_i + \\frac{h}{2} RHS(t_i, y_i) \\\\\n",
    "y_{i+1} &= y_i + h RHS(t_i + \\frac{1}{2}h, y_{i+\\frac{1}{2}})\\,,\n",
    "\\end{split}\n",
    "\\end{align}\n",
    "which is second-order in $h$."
   ]
  },
  {
   "cell_type": "markdown",
   "metadata": {},
   "source": [
    "### Runge-Kutta Schemes\n",
    "\n",
    "The idea of the Runge-Kutta schemes is to take advantage of derivative information at the times between $t_i$ and $t_{i+1}$ to increase the order of accuracy.\n",
    "\n",
    "For example, in the midpoint method, the derivative at the initial time is used to approximate the derivative at the midpoint of the interval, $f(y_i+\\frac{1}{2}hf(y_i,t_i), t_i+\\frac{1}{2}h)$. The derivative at the midpoint is then used to advance the solution to the next step. The method can be written in two stages $k_i$,\n",
    "\n",
    "$$ \\begin{aligned} \\begin{array}{l} k_1 = h f(y_i,t_i)\\\\ k_2 = h f(y_i+\\frac{1}{2}k_1, t_n+\\frac{1}{2}h)\\\\ y_{i+1} = y_i + k_2 \\end{array} \\end{aligned}\\label{RK2}\\tag{4} $$\n",
    "\n",
    "The midpoint method is known as a __2nd-order Runge-Kutta__ formula.\n",
    "\n",
    "\n",
    "In general, an explicit 2-stage Runge-Kutta method can be written as,\n",
    "$$ \\begin{array}{l} k_1 = h f(y_n,t_n)\\\\ k_2 = h f(y_n+b_{21}k_1, t_n+a_2h)\\ \\\\ y_{n+1} = y_n + c_1k_1 +c_2k_2 \\label{explicitrk2}\\tag{5}\\end{array} $$\n",
    "\n",
    "The scheme is said to be *explicit* since a given stage does not depend *implicitly* on itself, as in the backward Euler method , or on a later stage.\n",
    "\n",
    "Other explicit second-order schemes can be derived by comparing Eq.(\\ref{explicitrk2}) to other second-order expansions and matching terms to determine the coefficients $a_2$, $b_{21}$, $c_1$ and $c_2$.\n",
    "\n",
    "### Explicit Fourth-Order Runge-Kutta Method\n",
    "\n",
    "Explicit Runge-Kutta methods are popular as each stage can be calculated with one function evaluation. In contrast, implicit Runge-Kutta methods usually involves solving a non-linear system of equations in order to evaluate the stages. As a result, explicit schemes are much less expensive to implement than implicit schemes.\n",
    "\n",
    "The higher-order Runge-Kutta methods can be derived by in manner similar to the midpoint formula. An s-stage method is compared to a Taylor method and the terms are matched up to the desired order.\n",
    "\n",
    "Methods of order $M > 4$ require $M+1$ or $M+2$ function evaluations or stages, in the case of explicit Runge-Kutta methods. As a result, fourth-order Runge-Kutta methods have achieved great popularity over the years as they require only four function evaluations per step. In particular, there is the classic fourth-order Runge-Kutta formula:\n",
    "$$ \\begin{array}{l} k_1 = h f(y_n,t_n)\\\\ k_2 = h f(y_n+\\frac{k_1}{2}, t_n+\\frac{h}{2})\\\\ k_3 = h f(y_n+\\frac{k_2}{2}, t_n+\\frac{h}{2})\\\\ k_4 = h f(y_n+k_3, t_n+h)\\\\ y_{n+1} = y_n + \\frac{k_1}{6}+ \\frac{k_2}{3}+ \\frac{k_3}{3} + \\frac{k_4}{6} \\label{RK4}\\tag{6}\\end{array} $$\n",
    "\n",
    "### Break-out Practice \n",
    "<span style=\"color:blue\"> Implement the 2-nd order Runge-Kutta step `RK2_step(t, y, h, g, *P)` using the Equations(\\ref{RK2}).</span>\n",
    "<span style=\"color:blue\"> Implement the 4-th order Runge-Kutta step `RK4_step(t, y, h, g, *P)` using the Equations(\\ref{RK4}).</span>\n",
    "\n",
    "<span style=\"color:blue\"> Rerun the example problem from above and compare the errors from RK2, RK4 and forward-Euler</span>\n"
   ]
  },
  {
   "cell_type": "code",
   "execution_count": 13,
   "metadata": {},
   "outputs": [],
   "source": [
    "def RK2_step(t, y, h, g, *P):\n",
    "    \"\"\"\n",
    "    Implements a single step of the second-order, explicit midpoint method\n",
    "    \"\"\"\n"
   ]
  },
  {
   "cell_type": "code",
   "execution_count": 18,
   "metadata": {},
   "outputs": [],
   "source": [
    "def RK4_step(t, y, h, g, *P):\n",
    "    \"\"\"\n",
    "    Implements a single step of a fourth-order, explicit Runge-Kutta scheme\n",
    "    \"\"\"\n"
   ]
  },
  {
   "cell_type": "code",
   "execution_count": 19,
   "metadata": {},
   "outputs": [
    {
     "data": {
      "image/png": "[encoded data removed]",
      "text/plain": [
       "<Figure size 432x288 with 2 Axes>"
      ]
     },
     "metadata": {
      "needs_background": "light"
     },
     "output_type": "display_data"
    }
   ],
   "source": [
    "# set up problem\n",
    "c = 1.0\n",
    "h = 0.5\n",
    "t0 = 0.0\n",
    "y0 = 1.0\n",
    "tmax = 5.0\n",
    "\n",
    "# call the solver for RK2\n",
    "t, y2 = odeSolve(t0, y0, tmax, h, expRHS, RK2_step, c)\n",
    "# call the solver for RK4\n",
    "t, y4 = odeSolve(t0, y0, tmax, h, expRHS, RK4_step, c)\n",
    "\n",
    "# plot the result\n",
    "fig,ax = plt.subplots(1,2)\n",
    "ans = np.exp(-c*t)\n",
    "ax[0].plot(t,ans,'r')\n",
    "ax[0].set_xlabel('t')\n",
    "ax[0].set_ylabel('y')\n",
    "\n",
    "ax[0].plot(t,y2,'o','RK2')\n",
    "\n",
    "ax[0].plot(t,y4,'o','RK4')\n",
    "\n",
    "# along with the errors\n",
    "err = np.abs((ans-y)/ans)\n",
    "ax[1].plot(t, err, 'o')\n",
    "ax[1].set_xlabel('t')\n",
    "ax[1].set_ylabel('fractional error')\n",
    "ax[1].legend()\n",
    "# now also overplot the error we calculated for forward-Euler\n",
    "\n",
    "# this gives better spacing between axes\n",
    "plt.tight_layout()\n",
    "plt.show()"
   ]
  },
  {
   "cell_type": "code",
   "execution_count": null,
   "metadata": {},
   "outputs": [],
   "source": []
  }
 ],
 "metadata": {
  "kernelspec": {
   "display_name": "Python 3",
   "language": "python",
   "name": "python3"
  },
  "language_info": {
   "codemirror_mode": {
    "name": "ipython",
    "version": 3
   },
   "file_extension": ".py",
   "mimetype": "text/x-python",
   "name": "python",
   "nbconvert_exporter": "python",
   "pygments_lexer": "ipython3",
   "version": "3.7.7"
  }
 },
 "nbformat": 4,
 "nbformat_minor": 2
}
