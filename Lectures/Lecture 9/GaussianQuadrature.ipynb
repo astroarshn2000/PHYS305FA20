{
 "cells": [
  {
   "cell_type": "markdown",
   "metadata": {},
   "source": [
    "# Gaussian Quadrature"
   ]
  },
  {
   "cell_type": "markdown",
   "metadata": {},
   "source": [
    "## The idea behind Gaussian Quadrature\n",
    "So far we focused on uniformly spaced grid points (nodes). Gaussian Quadrature is an algorithm\n",
    "that chooses the nodes such that in the approximation\n",
    "$$\\int_a^b f(x)dx =\\sum_{i=1}^{n}c_i f(x_i) \\label{GQ}\\tag{1}$$\n",
    "the error is minimized in the sense that the result is _exact_ for the class of polynomials of degree $2n-1$.\n",
    "This is because Gaussian Quadrature treats both $c_i$ and $x_i$ as parameters, i.e., there are $2n$ parameters which\n",
    "is the number of parameters in a polynomial of degree $2n-1$. \n",
    "\n",
    "### Example: n=2 Gaussian Quadrature\n",
    "Let's consider the case $n=2$ for $x\\in [-1,1]$. We wish to determine $c_1, c_2, x_1, x_2$ such that\n",
    "\\begin{align}\n",
    "\\int_{-1}^{1} f(x)dx = &\\sum_{i=1}^{n}c_i f(x_i) = c_1 f(x_1) + c_2 f(x_2) \\label{condition}\\tag{2}\n",
    "\\end{align}\n",
    "is exact  whenever $f(x)$ is a polynomial of degree $2n-1=2\\cdot 2-1=3$ or less, i.e.,\n",
    "$$\n",
    "f(x) = a_0 + a_1 x+a_2 x^2 + a_3 x^3.\n",
    "$$\n",
    "\n",
    "To achieve this we will first integrate this polynomial\n",
    "\n",
    "$$\n",
    "\\int_{-1}^{1}f(x)dx = a_0 \\int_{-1}^{1}dx + a_1 \\int_{-1}^{1}x dx+ a_2 \\int_{-1}^{1}x^2dx + a_3 \\int_{-1}^{1}x^3dx.$$  \n",
    "\n",
    "We can now consider the function $f(x)$ as a linear combination of the\n",
    "4 functions $f_0(x)=1$, $f_1(x)=x$, $f_2(x)=x^2$, $f_3(x)=x^3$, i.e.,\n",
    "$f(x)=a_0 f_0(x)+a_1 f_1(x)+a_2 f_2(x)+a_3 f_3(x)=\\sum_{i=0}^3\n",
    "a_if(x_i)$.  Thus, if for each $f_i(x),\\ i=0,1,2,3$ we satisfy (\\ref{condition}) because\n",
    "\\begin{split}\n",
    "  \\int_{-1}^{1}f(x)dx = & \\int_{-1}^{1}\\sum_i a_i f_i(x)dx =\n",
    "  \\sum_i a_i \\int_{-1}^{1} f_i(x)dx = \\sum_i a_i (c_1 f_i(x_1) + c_2\n",
    "  f_i(x_2)) = \\sum_i a_i c_1 f_i(x_1) + \\sum_i a_i c_2 f_i(x_2)\\\\\n",
    "   = &\\  c_1 \\sum_i a_i f_i(x_1) + c_2\\sum_i a_i f_i(x_2) \n",
    "  = c_1 f(x_1) + c_2\n",
    "  f(x_2).\n",
    "\\end{split}\n",
    "\n",
    "Thus, for the 4 $f_i(x)$ polynomials we need to satisfy $\\int_{-1}^1\n",
    "f_i(x) dx = c_1 f_i(x_1) + c_2 f_i(x_2)$, which will provide 4\n",
    "equations for the 4 parameters $c_1,c_2$, $x_1,x_2$:\n",
    "  \\begin{split}\n",
    "    c_1 f_0(x_1) + c_2 f_0(x_2) = & c_1 \\cdot 1 + c_2 \\cdot 1 = \\int_{-1}^1 1 dx = 2\\\\\n",
    "    c_1 f_1(x_1) + c_2 f_1(x_2) = & c_1 \\cdot x_1 + c_2 \\cdot x_2 = \\int_{-1}^1 x dx = 0\\\\\n",
    "    c_1 f_2(x_1) + c_2 f_2(x_2) = & c_1 \\cdot x_1^2 + c_2 \\cdot x_2^2 = \\int_{-1}^1 x^2 dx = \\frac{2}{3}\\\\\n",
    "    c_1 f_3(x_1) + c_2 f_3(x_2) = & c_1 \\cdot x_1^3 + c_2 \\cdot x_2^3 = \\int_{-1}^1 x^3 dx = 0.\n",
    "  \\end{split}\n",
    "\n",
    "\n",
    "This system can be solved easily by eliminating $c_1$ and $c_2$ from the first two equations, e.g.,\n",
    "solve the first w.r.t $c_1$ and then replace the result in the second equation to express $c_2$ in\n",
    "terms of $x_1$ and $x_2$. Then substitute $c_1$ and $c_2$ in terms of $x_1$ and $x_2$ in the last\n",
    "two equations that will provide a system of 2 equations for the 2 unknowns $x_1$ and $x_2$. \n",
    "\n",
    "The solution\n",
    "of the system is $c_1=1$, $c_2=1$, $x_1=-\\sqrt{3}/3=-x_2$.  \n",
    "\n",
    "**Therefore, the $n=2$ Gaussian quadrature\n",
    "is\n",
    "$$\n",
    "\\int_{-1}^{1} f(x)dx =  f(-\\frac{\\sqrt{3}}{3}) + f(\\frac{\\sqrt{3}}{3}),\n",
    "$$\n",
    "which yields an _exact_ result for any $f(x)$ that is a polynomial up to degree $n=3$!**\n",
    "\n"
   ]
  },
  {
   "cell_type": "markdown",
   "metadata": {},
   "source": [
    "### <span style=\"color:blue\"> Hands-on example: n=2 Gaussian quadrature on the [-1,1] interval </span>"
   ]
  },
  {
   "cell_type": "code",
   "execution_count": null,
   "metadata": {},
   "outputs": [],
   "source": [
    "import numpy as np\n",
    "#simple version of Gaussian Quadrature with n = 2\n",
    "def GaussianQ_n2_unit_interval(f,*P):\n",
    "    n = 2\n",
    "    #define nodes (derived above)\n",
    "    x = np.array([-np.sqrt(3)/3.,np.sqrt(3)/3.])\n",
    "    #define coefficients (derived above)\n",
    "    c = np.array([1.,1.])\n",
    "    I = 0\n",
    "    #now sum up the integral based on the n=2 Gaussian Quadrature formula\n",
    "    for j in range(n):\n",
    "        I += c[j]*f(x[j],*P)\n",
    "    return I"
   ]
  },
  {
   "cell_type": "code",
   "execution_count": null,
   "metadata": {},
   "outputs": [],
   "source": [
    "#define a fifth-order polynomial\n",
    "def p_n5(x,a0,a1,a2,a3,a4,a5):\n",
    "    return a0+a1*x+a2*x**2+a3*x**3+a4*x**4+a5*x**5\n",
    "\n",
    "#integral of fifth-order polynomial over arbitrary integral\n",
    "def int_p_n5(xmin,xmax,a0,a1,a2,a3,a4,a5):\n",
    "    I = a0*(xmax-xmin) + a1*(xmax**2-xmin**2)/2. + a2*(xmax**3-xmin**3)/3. + a3*(xmax**4-xmin**4)/4. + a4*(xmax**5-xmin**5)/5. +a5*(xmax**6-xmin**6)/6.\n",
    "    return I\n",
    "#wrapper function for calling integral over [-1,1] interval\n",
    "def int_p_n5_unit_interval(*P):\n",
    "    return int_p_n5(-1,1,*P)"
   ]
  },
  {
   "cell_type": "code",
   "execution_count": null,
   "metadata": {},
   "outputs": [],
   "source": [
    "#now test this by defining the coefficients of p_n5, our integrand\n",
    "P = (1,1,1,0,0,0)\n",
    "GQ_n2 = GaussianQ_n2_unit_interval(p_n5,*P)\n",
    "exact = int_p_n5_unit_interval(*P)\n",
    "\n",
    "print(\"exact integral: %e\"%(exact))\n",
    "print(\"Gaussian Quadrature: %e\"%(GQ_n2))"
   ]
  },
  {
   "cell_type": "markdown",
   "metadata": {},
   "source": [
    "<span style=\"color:blue\"> Convince yourself that this is exact for `p_n5` with degree n<=3 </span>"
   ]
  },
  {
   "cell_type": "markdown",
   "metadata": {},
   "source": [
    "### Arbitrary intervals\n",
    "The general procedure for Gaussian quadrature outlined earlier applies\n",
    "to the interval $[-1,1]$. However, we will often have general\n",
    "integration domains $[a,b]$. We can still apply $\\int_a^b f(x)dx =\\sum_{i=1}^{n}c_i f(x_i)$ by a simple\n",
    "transformation of the integration variable. An integral of the form\n",
    "$$\n",
    "\\int_a^b f(x) dx \n",
    "$$\n",
    "can easily be transformed to the form\n",
    "$$\\int_{-1}^1 f(t) dt$$\n",
    "\n",
    "if we let\n",
    "\n",
    "$$\n",
    "t=\\frac{2 x -a -b}{b-a}, \n",
    "$$\n",
    "\n",
    "which implies\n",
    "$$x=\\frac{1}{2}[(b-a)t+a+b].\n",
    "$$\n",
    "Thus, when $x=a$, $t=-1$, and when $x=b$, $t=1$. We then have $dx=\\frac{b-a}{2}dt$, and hence\n",
    "$$\n",
    "\\int_a^b f(x) dx = \\frac{b-a}{2}\\int_{-1}^1 f\\left(\\frac{(b-a)t+(b+a)}{2} \\right)dt.\n",
    "$$\n",
    "The last expression allows the application of our Gaussian Quadrature expression to\n",
    "any function in any integration interval.\n"
   ]
  },
  {
   "cell_type": "markdown",
   "metadata": {},
   "source": [
    "<span style=\"color:blue\"> Now rewrite `GaussianQ_n2_unit_interval` to perform Gaussian Quadrature over any integration interval:\n",
    "- write a function `tranform_variable(t, a,b)`\n",
    "- use `tranform_variable(t, a,b)` within the n = 2 Gaussian Quadrature formula\n",
    "- remember to apply the rescaling (b-a)/2 to the result obtained on the interval [-1,1]\n",
    "</span>"
   ]
  },
  {
   "cell_type": "code",
   "execution_count": null,
   "metadata": {},
   "outputs": [],
   "source": [
    "def tranform_variable(t, a,b):\n",
    "#your turn!"
   ]
  },
  {
   "cell_type": "code",
   "execution_count": null,
   "metadata": {},
   "outputs": [],
   "source": [
    "def GaussianQ_n2_any_interval(f,a,b,*P):\n",
    "    n = 2\n",
    "    #define nodes (derived above)\n",
    "    x = np.array([-np.sqrt(3)/3.,np.sqrt(3)/3.])\n",
    "    #define coefficients (derived above)\n",
    "    c = np.array([1.,1.])\n",
    "    I = 0\n",
    "    #now sum up the integral based on the n=2 Gaussian Quadrature formula\n",
    "    #using the transformed variable, and rescaling of the integral\n"
   ]
  },
  {
   "cell_type": "code",
   "execution_count": null,
   "metadata": {},
   "outputs": [],
   "source": [
    "P = (1,0,1,1,0,0)\n",
    "a = 0\n",
    "b = 2\n",
    "GQ_n2 = GaussianQ_n2_any_interval(p_n5,a,b,*P)\n",
    "exact = int_p_n5(a,b,*P)\n",
    "\n",
    "print(\"exact integral: %e\"%(exact))\n",
    "print(\"Gaussian Quadrature: %e\"%(GQ_n2))"
   ]
  },
  {
   "cell_type": "markdown",
   "metadata": {},
   "source": [
    "### Gaussian Quadrature with n>2 \n",
    "The same approach can yield results for degree $2n-1$ polynomials, but\n",
    "this turns out to be more involved.  By using Legendre polynomials,\n",
    "the process can be expedited. So, let's introduce the Legendre polynomials first.\n",
    "\n",
    "**Legendre polynomials** ($P_n(x)$) are orthogonal ($\\int_{-1}^1 P_n(x) P_m(x) = \\delta_{nm}$) and form a complete basis.\n",
    "\n",
    "Some of theirproperties are:\n",
    "-  For each $n$, $P_n(x)$ is a monic polynomial of degree $n$, i.e., the coeficient of the smallest power of $x$\n",
    "  that appears in the polynomial is $1$.\n",
    "  \n",
    "- $\\int_{-1}^1 p(x) P_n(x) = 0$, when $p(x)$ is a polynomial of degree $<n$.\n",
    "  \n",
    "- The first 5 Legendre polynomials are: $P_0(x)$=1, $P_1(x)$=x, $P_2(x)=x^2-1/3$, $P_3(x)=x^3-3x/5$, \\\\ $P_4(x)=x^4-6x^2/7 +3/35$.\n",
    "\n",
    "- <u>**Theorem**</u>\n",
    "  Assume $x_1, x_2, \\ldots x_n$ are the roots of the $n$-th Legendre\n",
    "  polynomial $P_n(x)$ and for each $i=1,2,\\ldots n$, consider the\n",
    "  numbers\n",
    "  $$\n",
    "    c_i = \\int_{-1}^{1} \\prod_{j=1,j\\neq i}^n \\frac{x-x_j}{x_i-x_j} dx \\label{eqci}\\tag{3}\n",
    "  $$\n",
    "  If $p(x)$ is _any_ polynomial of degree less than $2n-1$, then\n",
    "  $$\n",
    "    \\int_{-1}^1 p(x) dx = \\sum_{i=1}^n c_i p(x_i).\n",
    "  $$\n",
    " \n",
    " \n",
    " ### Example: n=3 Gaussian Quadrature\n",
    "Let's consider the integral\n",
    "$$\n",
    "  I=\\int_{-1}^1 e^x cos(x) dx = 1.933421496200713,\n",
    "$$\n",
    "and lets approximate it using Gaussian quadrature\n",
    "with $n=3$, i.e.,\n",
    "\n",
    "$$\\tilde I = c_1 f(x_1) + c_2 f(x_2) + c_3 f(x_3).$$\n",
    "\n",
    "where $x_1, x_2, x_3$ are the roots of the Legendre polynomial\n",
    "$P_3(x)$, i.e., $x^3 - 3x/5 =0 \\Rightarrow$ $x=0$ or $x^2-3/5=0\n",
    "\\Rightarrow$ $x=\\pm \\sqrt{3/5}$. Thus, $x_1=-\\sqrt{3/5}$, $x_2=0$, and\n",
    "$x_3=\\sqrt{3/5}$. Next, we calculate the coefficients $c_i$ using Eq.(\\ref{eqci}):\n",
    "  \\begin{split}\n",
    "    c_1 = & \\int_{-1}^{1} \\prod_{j=1,j\\neq 1}^n \\frac{x-x_j}{x_1-x_j} dx = \\int_{-1}^{1} \\frac{x-x_2}{x_1-x_2}\\frac{x-x_3}{x_1-x_3} dx = \\frac{5}{9} \\\\\n",
    "    c_2 = & \\int_{-1}^{1} \\prod_{j=1,j\\neq 2}^n \\frac{x-x_j}{x_2-x_j} dx = \\int_{-1}^{1} \\frac{x-x_1}{x_2-x_1}\\frac{x-x_3}{x_2-x_3} dx = \\frac{8}{9} \\\\\n",
    "    c_3 = & \\int_{-1}^{1} \\prod_{j=1,j\\neq 3}^n \\frac{x-x_j}{x_3-x_j} dx = \\int_{-1}^{1} \\frac{x-x_1}{x_3-x_1}\\frac{x-x_2}{x_3-x_2} dx = \\frac{5}{9} \\\\\n",
    "  \\end{split}\n",
    "\n",
    "Thus,\n",
    "$$\n",
    "\\tilde I = \\frac{5}{9} f\\left(-\\sqrt{\\frac{3}{5}}\\right) + \\frac{8}{9} f(0) + \\frac{5}{9} f\\left(\\sqrt{\\frac{3}{5}}\\right) = 1.933390469264298. \\label{Gaussn4}\\tag{4}\n",
    "$$\n",
    "\n",
    "Thus, the relative error is $|(\\tilde I-I)/I|=1.6\\times 10^{-5}$!!!  \n",
    "**Notice that Eq.(\\ref{Gaussn4}) applies to any function, and is _exact_ for any polynomial of degree 5 or less.**\n"
   ]
  },
  {
   "cell_type": "markdown",
   "metadata": {},
   "source": [
    "### <span style=\"color:blue\"> Hands-on example: n=3 Gaussian quadrature of $\n",
    "I = \\int_0^\\pi x\\cos(x) d x$</span>\n",
    "- following the n = 2 example above, implement the n = 3 Gaussian quadrature expression on an arbitraty interval\n",
    "- calculate the relative error by comparing to the exact value $I = 2$."
   ]
  },
  {
   "cell_type": "code",
   "execution_count": null,
   "metadata": {},
   "outputs": [],
   "source": [
    "def func(x,*P):\n",
    "    return x*np.cos(x)"
   ]
  },
  {
   "cell_type": "code",
   "execution_count": null,
   "metadata": {},
   "outputs": [],
   "source": [
    "def GaussianQ_n3_any_interval(f,a,b,*P):\n",
    "    #define nodes (derived above)\n",
    "    #define coefficients (derived above)\n",
    "    #now sum up the integral based on the n=3 Gaussian Quadrature formula\n",
    "    #return the integral value"
   ]
  },
  {
   "cell_type": "code",
   "execution_count": null,
   "metadata": {},
   "outputs": [],
   "source": []
  },
  {
   "cell_type": "code",
   "execution_count": null,
   "metadata": {},
   "outputs": [],
   "source": [
    "#now print the relative error\n",
    "exact_value = -2.\n",
    "GQ_n3_approximation = GaussianQ_n3_any_interval(func,0,np.pi,*P)\n",
    "fractional_error = \n",
    "print(fractional_error )"
   ]
  },
  {
   "cell_type": "code",
   "execution_count": null,
   "metadata": {},
   "outputs": [],
   "source": []
  }
 ],
 "metadata": {
  "kernelspec": {
   "display_name": "Python 3",
   "language": "python",
   "name": "python3"
  },
  "language_info": {
   "codemirror_mode": {
    "name": "ipython",
    "version": 3
   },
   "file_extension": ".py",
   "mimetype": "text/x-python",
   "name": "python",
   "nbconvert_exporter": "python",
   "pygments_lexer": "ipython3",
   "version": "3.7.7"
  }
 },
 "nbformat": 4,
 "nbformat_minor": 4
}
