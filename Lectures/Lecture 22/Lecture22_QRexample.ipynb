{
 "cells": [
  {
   "cell_type": "markdown",
   "metadata": {},
   "source": [
    "# Announcements\n",
    "- __Please familiarize yourself with the term projects, and sign up for your (preliminary) choice__ using [this form](https://forms.gle/ByLLpsthrpjCcxG89). _You may revise your choice, but I'd recommend settling on a choice well before Thanksgiving._\n",
    "- Problem Set 5 posted on D2L, due Oct 20.\n",
    "- __Outlook__: algorithms for non-linear equations; then Boundary Value Problems and Partial Differential Equations.\n",
    "- Conference for Undergraduate Women in Physics: online event in 2021, [applications accepted until 10/25](https://www.aps.org/programs/women/cuwip/)\n",
    "- TIMESTEP on 10/21 at 5pm: Grad School Application Process [details + zoom registration](https://lavinia.as.arizona.edu/~timestep/)"
   ]
  },
  {
   "cell_type": "markdown",
   "metadata": {},
   "source": [
    "# QR Decomposition Example\n",
    "In today's breakout room exercise, we will implement the __Householder Triangularization__ (Lecture 21). Here's a summary of our derivation:\n",
    "\n",
    "Householder multiplies $A$ on the left by unitary matrices $Q_k$, \n",
    "\n",
    "$$\n",
    "    Q_n Q_{n-1} \\quad \\cdots \\quad Q_2 Q_1 A = R \\,.\n",
    "$$\n",
    "\n",
    "We can think of Householder triangularization as one of introducing zeros into $A$ via orthogonal matrices.\n",
    "\n",
    "The construction of $Q_k$ is usually broken down into a matrix of the form\n",
    "\n",
    "$$\n",
    "    Q_k = \\begin{bmatrix} I & 0 \\\\ 0 & F \\end{bmatrix}\n",
    "$$\n",
    "\n",
    "where $I \\in \\mathbb C^{k-1 \\times k-1}$ identity matrix and $F \\in \\mathbb C^{m - (k - 1) \\times m - (k-1)}$ unitary matrix. We derived in Lecture 21 that\n",
    "\n",
    "$$\n",
    "    F = I - 2 \\frac{\\vec{v_k} \\vec{v_k}^\\ast}{\\vec{v_k}^\\ast \\vec{v_k}}\n",
    "$$\n",
    "with  $v_k = ||\\vec{x_k}|| \\hat{e}_1 - \\vec{x_k}$.\n",
    "\n",
    "_There is actually a non-uniqueness to which direction we reflect over since another definition of $\\hat{H}$ which is orthogonal to the one we originally choose is available.  For numerical stability purposes we will choose the reflector that is the most different from $\\vec{x}$.  This comes back to having difficulties numerically when the vector $\\vec{x_k}$ is nearly aligned with $\\hat{e}_1$ and therefore one of the $H$ specification.  By convention the $\\vec{v_k}$ cis defined by_\n",
    "\n",
    "$$\n",
    "    v_k = \\text{sign}(x_{k,1}||\\vec{x_k}|| \\hat{e}_1 + \\vec{x_k}.\n",
    "$$\n"
   ]
  },
  {
   "cell_type": "code",
   "execution_count": 13,
   "metadata": {},
   "outputs": [
    {
     "ename": "SyntaxError",
     "evalue": "invalid syntax (<ipython-input-13-674040816b68>, line 14)",
     "output_type": "error",
     "traceback": [
      "\u001b[0;36m  File \u001b[0;32m\"<ipython-input-13-674040816b68>\"\u001b[0;36m, line \u001b[0;32m14\u001b[0m\n\u001b[0;31m    v[k:, k] =\u001b[0m\n\u001b[0m               ^\u001b[0m\n\u001b[0;31mSyntaxError\u001b[0m\u001b[0;31m:\u001b[0m invalid syntax\n"
     ]
    }
   ],
   "source": [
    "import numpy\n",
    "# Implementation of Householder QR Factorization\n",
    "def householder_QR(A, verbose=False):\n",
    "    m, n = A.shape\n",
    "    Q = numpy.zeros(A.shape)\n",
    "    v = numpy.empty(A.shape)\n",
    "    m, n = A.shape\n",
    "    R = A.copy()\n",
    "    for k in range(n):\n",
    "    #calculate normalized v_k = v[k:,k]\n",
    "        x = R[k:, k]\n",
    "        e1 = numpy.zeros(x.shape)\n",
    "        e1[0] = 1.0\n",
    "        v[k:, k] = \n",
    "    #calculate updated R_k \n",
    "        R[k:, k:] -= 2.0 * numpy.dot(numpy.outer(v[k:, k], v[k:, k]), R[k:, k:])\n",
    "\n",
    "    # Form Q\n",
    "    for k in range(n):\n",
    "        ek = numpy.zeros(m)\n",
    "        #ek is the k-th unit vector\n",
    "        ek[k] = 1.0\n",
    "        for j in range(n - 1, -1, -1):\n",
    "            #now apply successive reflections\n",
    "            ek[j:m] -= 2.0 * numpy.dot(numpy.outer(v[j:, j], v[j:, j]), ek[j:m])\n",
    "        Q[:, k] = en\n",
    "        \n",
    "    return Q, R\n",
    "\n",
    "A = numpy.array([[12, -51, 4], [6, 167, -68], [-4, 24, -41]], dtype=float)\n",
    "print(\"Matrix A = \")\n",
    "print(A)\n",
    "m, n = A.shape\n",
    "Q, R = householder_QR(A, verbose=False)\n",
    "print(\"Householder Q = \")\n",
    "print(Q)\n",
    "print(\"Householder R = \")\n",
    "print(R)\n",
    "\n",
    "print(\"Check to see if factorization worked...\")\n",
    "print(numpy.abs(A - numpy.dot(Q, R[:n, :n])))"
   ]
  },
  {
   "cell_type": "markdown",
   "metadata": {},
   "source": [
    "#### Example:   Random Matrix QR\n",
    "\n",
    "Consider a matrix $A$ with a random eigenspace and widely varying eigenvalues.  The values along the diagonal of $R$ gives us some idea of the size of the projections as we go, i.e. the larger the values the less effective we are in constructing othorgonal directions.\n",
    "\n",
    "We will now compare the classic Gram-Schmidt iteration `classic_GS` (Lecture 20) to your Householder triangulaziation:"
   ]
  },
  {
   "cell_type": "code",
   "execution_count": 11,
   "metadata": {},
   "outputs": [],
   "source": [
    "# Classical Gram-Schmidt Iteration (Lecture 20)\n",
    "def classic_GS(A):\n",
    "    m = A.shape[0]\n",
    "    n = A.shape[1]\n",
    "    Q = numpy.empty((m, n))\n",
    "    R = numpy.zeros((n, n))\n",
    "    for j in range(n):\n",
    "        v = A[:, j]\n",
    "        for i in range(j):\n",
    "            R[i, j] = numpy.dot(Q[:, i].conjugate(), A[:, j])\n",
    "            v = v - R[i, j] * Q[:, i]\n",
    "        R[j, j] = numpy.linalg.norm(v, ord=2)\n",
    "        Q[:, j] = v / R[j, j]\n",
    "    return Q, R\n"
   ]
  },
  {
   "cell_type": "code",
   "execution_count": 12,
   "metadata": {},
   "outputs": [
    {
     "data": {
      "image/png": "[encoded data removed]",
      "text/plain": [
       "<Figure size 432x288 with 1 Axes>"
      ]
     },
     "metadata": {
      "needs_background": "light"
     },
     "output_type": "display_data"
    }
   ],
   "source": [
    "import matplotlib.pyplot as plt\n",
    "N = 80\n",
    "U, X = numpy.linalg.qr(numpy.random.random((N, N)))\n",
    "V, X = numpy.linalg.qr(numpy.random.random((N, N)))\n",
    "S = numpy.diag(2.0**numpy.arange(-1.0, -(N + 1), -1.0))\n",
    "A = numpy.dot(U, numpy.dot(S, V))\n",
    "\n",
    "fig = plt.figure()\n",
    "axes = fig.add_subplot(1, 1, 1)\n",
    "Q, R = classic_GS(A)\n",
    "axes.semilogy(numpy.diag(R), 'bo', label=\"Classic\")\n",
    "Q, R = householder_QR(A)\n",
    "axes.semilogy(numpy.diag(R), 'ko', label=\"Householder\")\n",
    "\n",
    "axes.set_xlabel(\"Index\")\n",
    "axes.set_ylabel(\"$R_{ii}$\")\n",
    "axes.legend(loc=3)\n",
    "axes.plot(numpy.arange(0, N), numpy.ones(N) * numpy.sqrt(numpy.finfo(float).eps), 'k--')\n",
    "axes.plot(numpy.arange(0, N), numpy.ones(N) * numpy.finfo(float).eps, 'k--')\n",
    "\n",
    "plt.show()"
   ]
  },
  {
   "cell_type": "code",
   "execution_count": null,
   "metadata": {},
   "outputs": [],
   "source": []
  }
 ],
 "metadata": {
  "kernelspec": {
   "display_name": "Python 3",
   "language": "python",
   "name": "python3"
  },
  "language_info": {
   "codemirror_mode": {
    "name": "ipython",
    "version": 3
   },
   "file_extension": ".py",
   "mimetype": "text/x-python",
   "name": "python",
   "nbconvert_exporter": "python",
   "pygments_lexer": "ipython3",
   "version": "3.7.7"
  }
 },
 "nbformat": 4,
 "nbformat_minor": 4
}
