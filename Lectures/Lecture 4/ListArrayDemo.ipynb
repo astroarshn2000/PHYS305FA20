{
 "cells": [
  {
   "cell_type": "markdown",
   "metadata": {},
   "source": [
    "# 1. Defining Lists\n",
    "\n",
    "\n",
    "A `container` is a class or data structure whose instances are collections of other objects. In this class you will encounter containers called `Lists` and `numpy arrays`. \n",
    "\n",
    "`Lists` are the handiest and most flexible type of container. \n",
    "\n",
    "`Lists` are declared with square brackets `[  ]`"
   ]
  },
  {
   "cell_type": "code",
   "execution_count": 1,
   "metadata": {},
   "outputs": [],
   "source": [
    "# Lists are created with square bracket syntax\n",
    "# This example contains 3 items, each strings\n",
    "a = ['proton', 'electron', 'neutron']"
   ]
  },
  {
   "cell_type": "code",
   "execution_count": 2,
   "metadata": {},
   "outputs": [
    {
     "name": "stdout",
     "output_type": "stream",
     "text": [
      "['proton', 'electron', 'neutron'] <class 'list'>\n"
     ]
    }
   ],
   "source": [
    "print(a, type(a))"
   ]
  },
  {
   "cell_type": "markdown",
   "metadata": {},
   "source": [
    "We know the list `a` contains three strings.  We can double check the total number of items in a `List` using the `len` function, which returns the length of the `List`."
   ]
  },
  {
   "cell_type": "code",
   "execution_count": 3,
   "metadata": {},
   "outputs": [
    {
     "name": "stdout",
     "output_type": "stream",
     "text": [
      "3\n"
     ]
    }
   ],
   "source": [
    "print(len(a))"
   ]
  },
  {
   "cell_type": "markdown",
   "metadata": {},
   "source": [
    "Each item in a `List` can be selected using the syntax: \n",
    "\n",
    ">`name_of_list[index]`\n",
    "\n",
    "Here `index` refers to the location of the desired item within the `List`.  \n",
    "\n",
    "Like with the `range` function, indices start from `0` and go to `len(a) - 1`.\n",
    "\n",
    "For example, the indices of `a` are:  0, 1, 2 "
   ]
  },
  {
   "cell_type": "code",
   "execution_count": null,
   "metadata": {},
   "outputs": [],
   "source": [
    "# select the second item\n",
    "print(a[1])"
   ]
  },
  {
   "cell_type": "code",
   "execution_count": null,
   "metadata": {},
   "outputs": [],
   "source": [
    "# select the last item\n",
    "\n",
    "# method 1 \n",
    "a[len(a)-1]  # we don't already know the length of the List, so we call the len function."
   ]
  },
  {
   "cell_type": "code",
   "execution_count": null,
   "metadata": {},
   "outputs": [],
   "source": [
    "# select the last item\n",
    "\n",
    "# method 2\n",
    "# Alternatively, you can also count starting from the end of the List\n",
    "print('last item is:', a[-1])\n",
    "print('second to last item is:', a[-2])"
   ]
  },
  {
   "cell_type": "code",
   "execution_count": null,
   "metadata": {},
   "outputs": [],
   "source": [
    "# You can also define an **empty** list \n",
    "\n",
    "aa = []\n",
    "print(aa)"
   ]
  },
  {
   "cell_type": "markdown",
   "metadata": {},
   "source": [
    "# 2. Operations with Lists\n",
    "\n",
    "You can also do operations with items in a List.\n",
    "\n",
    "Let's define a new list called days, which contrains strings of the name of the days of the week.\n"
   ]
  },
  {
   "cell_type": "code",
   "execution_count": null,
   "metadata": {},
   "outputs": [],
   "source": [
    "# define a new list\n",
    "days = ['monday','tuesday','wednesday','thursday','friday','sunday','saturday']  # this will not print anything "
   ]
  },
  {
   "cell_type": "code",
   "execution_count": null,
   "metadata": {},
   "outputs": [],
   "source": [
    "print(days)  # unless you tell it to "
   ]
  },
  {
   "cell_type": "markdown",
   "metadata": {},
   "source": [
    "Because `days` is comprised of `strings`, we can use the `+` operator to concatenate. \n",
    "For example, we can concatenate the 1st and last item in `days`:"
   ]
  },
  {
   "cell_type": "code",
   "execution_count": null,
   "metadata": {},
   "outputs": [],
   "source": [
    "days[0] + \" \" + days[-1] # days[0] and days[-1] are strings so + will concatenate. "
   ]
  },
  {
   "cell_type": "markdown",
   "metadata": {},
   "source": [
    "You can also reassign the value of an item within a `List` by selecting the item by its index.\n",
    "\n",
    "`days[0] = 'new day'`\n",
    "\n",
    "In `days`, sunday and saturday are currently not in the right order.\n",
    "Let's assign saturday to sunday and sunday to saturday."
   ]
  },
  {
   "cell_type": "code",
   "execution_count": null,
   "metadata": {},
   "outputs": [],
   "source": [
    "days[-1] = 'sunday' # assign `sunday` to the last element of the array\n",
    "days[-2] = 'saturday' # assign `saturday` to the 2nd last element of the array\n",
    "print(days)"
   ]
  },
  {
   "cell_type": "markdown",
   "metadata": {},
   "source": [
    "# 3.  Index Slicing\n",
    "\n",
    "You can access multiple items from a subset of a given `List` by `slicing`. This is denoted by using a colon between the two desired indices.\n",
    "NOTE: The end value is not inclusive.\n",
    "\n",
    "For example, if I want to select the 1st through 3rd element of a `List`, I'd write:\n",
    "\n",
    "    name_of_list[1:4]"
   ]
  },
  {
   "cell_type": "code",
   "execution_count": null,
   "metadata": {},
   "outputs": [],
   "source": [
    "# Here is a new List, containing strings of the names of 5 Arizonan animals \n",
    "animals = ['javelina','coyote','rattlesnake','tarantula','scorpion']"
   ]
  },
  {
   "cell_type": "code",
   "execution_count": null,
   "metadata": {},
   "outputs": [],
   "source": [
    "# print the List to the screen\n",
    "print(f'animals: {animals}')"
   ]
  },
  {
   "cell_type": "code",
   "execution_count": null,
   "metadata": {},
   "outputs": [],
   "source": [
    "# print a subset of the List\n",
    "print(f'get the deadly ones: {animals[2:5]}')"
   ]
  },
  {
   "cell_type": "code",
   "execution_count": null,
   "metadata": {},
   "outputs": [],
   "source": [
    "# print two different subsets of the List\n",
    "print('get the ones with legs:', animals[0:2] + animals[3:5]) # here we concatenated 2 lists, \n",
    "# I did not use an f-string here because I am doing a calculation with the variables."
   ]
  },
  {
   "cell_type": "markdown",
   "metadata": {},
   "source": [
    "# 4. Modifying Lists\n",
    "\n",
    "Once you've created a `List` you can add additional values to the end of the `List` -- this is called `appending`.\n",
    "\n",
    "`Lists` are objects that have `methods` like `append` that can be utilized with the following syntax:\n",
    "\n",
    "    name_of_list.append(<argument to add>)\n",
    "    \n",
    "\n",
    "Below we define a `List` of `strings` with the names of 3 cactii."
   ]
  },
  {
   "cell_type": "code",
   "execution_count": 4,
   "metadata": {},
   "outputs": [
    {
     "name": "stdout",
     "output_type": "stream",
     "text": [
      "['ocatillo', 'prickly pear', 'barrel']\n"
     ]
    }
   ],
   "source": [
    "cactii = ['ocatillo','prickly pear','barrel']\n",
    "print(cactii)"
   ]
  },
  {
   "cell_type": "code",
   "execution_count": 5,
   "metadata": {},
   "outputs": [
    {
     "name": "stdout",
     "output_type": "stream",
     "text": [
      "['ocatillo', 'prickly pear', 'barrel', 'cholla']\n"
     ]
    }
   ],
   "source": [
    "# Let's use the append method to add a new cactus to the end of the list\n",
    "\n",
    "cactii.append('cholla')\n",
    "print(cactii)"
   ]
  },
  {
   "cell_type": "code",
   "execution_count": 6,
   "metadata": {},
   "outputs": [
    {
     "name": "stdout",
     "output_type": "stream",
     "text": [
      "['ocatillo', 'prickly pear', 'barrel', 'cholla', 'saguaro']\n"
     ]
    }
   ],
   "source": [
    "# Let's add another\n",
    "\n",
    "cactii.append('saguaro')\n",
    "print(cactii)"
   ]
  },
  {
   "cell_type": "code",
   "execution_count": 7,
   "metadata": {},
   "outputs": [
    {
     "name": "stdout",
     "output_type": "stream",
     "text": [
      "['ocatillo', 'prickly pear', 'barrel', 'cholla', 'saguaro', [1, 2]]\n"
     ]
    }
   ],
   "source": [
    "# you can even append Lists to a new Lists, even if the new items are not also strings. \n",
    "cactii.append([1,2])\n",
    "print(cactii)"
   ]
  },
  {
   "cell_type": "markdown",
   "metadata": {},
   "source": [
    "If you want to get rid of that last item added to a `List` you can use the method `pop`,\n",
    "which removes and returns the last item from the `List` **or the item at a given index value**. "
   ]
  },
  {
   "cell_type": "code",
   "execution_count": 8,
   "metadata": {},
   "outputs": [
    {
     "name": "stdout",
     "output_type": "stream",
     "text": [
      "['ocatillo', 'prickly pear', 'barrel', 'cholla', 'saguaro']\n"
     ]
    }
   ],
   "source": [
    "# Let's get rid of the most recently added item to the list\n",
    "cactii.pop()\n",
    "print(cactii) # check that it is gone.  We should only have cactii names"
   ]
  },
  {
   "cell_type": "code",
   "execution_count": 9,
   "metadata": {},
   "outputs": [
    {
     "data": {
      "text/plain": [
       "'barrel'"
      ]
     },
     "execution_count": 9,
     "metadata": {},
     "output_type": "execute_result"
    }
   ],
   "source": [
    "# Now let's remove the 3rd item in the list: \n",
    "cactii.pop(2)"
   ]
  },
  {
   "cell_type": "code",
   "execution_count": 10,
   "metadata": {},
   "outputs": [
    {
     "name": "stdout",
     "output_type": "stream",
     "text": [
      "['ocatillo', 'prickly pear', 'cholla', 'saguaro']\n"
     ]
    }
   ],
   "source": [
    "print(cactii) # check that it is gone. "
   ]
  },
  {
   "cell_type": "markdown",
   "metadata": {},
   "source": [
    "Alternatively, you can remove an item with a known value from a `List` using the method `remove`"
   ]
  },
  {
   "cell_type": "code",
   "execution_count": 11,
   "metadata": {},
   "outputs": [
    {
     "name": "stdout",
     "output_type": "stream",
     "text": [
      "['prickly pear', 'cholla', 'saguaro']\n"
     ]
    }
   ],
   "source": [
    "cactii.remove('ocatillo')\n",
    "print(cactii)"
   ]
  },
  {
   "cell_type": "markdown",
   "metadata": {},
   "source": [
    "# 5.  Loops with Lists\n",
    "\n",
    "The above exercise was probably a bit tedious. It would be much easier if we could do this using a `loop`.\n",
    "\n",
    "Just like with the `range` function, you can loop over any `List`.  \n",
    "\n",
    "The `for loop` below stores each item in the `List` we defined earlier, called `days`, to a variable `i` at each iteration."
   ]
  },
  {
   "cell_type": "code",
   "execution_count": null,
   "metadata": {},
   "outputs": [],
   "source": [
    "for i in days:\n",
    "    print(i)     # in this case i is not an integer. \n",
    "                # it is the value of an item in days, which will be a string."
   ]
  },
  {
   "cell_type": "code",
   "execution_count": null,
   "metadata": {},
   "outputs": [],
   "source": [
    "# to see better what is going on in the loop, add a counter, \n",
    "# this loop should execute for as long as there are elements in the array.\n",
    "len(days) # the loop should execute 7 times."
   ]
  },
  {
   "cell_type": "code",
   "execution_count": null,
   "metadata": {},
   "outputs": [],
   "source": [
    "count = 0  # count is initialized outside the loop so that it has some initial value, \n",
    "           # but is not reset to 0 each time the loop executes.\n",
    "for i in days:\n",
    "    print(i) # this is an item in the List days\n",
    "    count += 1 # update the counter.\n",
    "    print(count) # print the counter to the screen each time the loop executes"
   ]
  },
  {
   "cell_type": "markdown",
   "metadata": {},
   "source": [
    "# 6. Arrays and Array Slicing"
   ]
  },
  {
   "cell_type": "code",
   "execution_count": 12,
   "metadata": {},
   "outputs": [],
   "source": [
    "import numpy as np # we are importing the numpy package and will call it using a shortcut `np`"
   ]
  },
  {
   "cell_type": "markdown",
   "metadata": {},
   "source": [
    "numpy has a function called `arange` that generates an array of numbers. This function operates like `range`. \n",
    "\n",
    "`np.arange(start,end before, increment)`"
   ]
  },
  {
   "cell_type": "code",
   "execution_count": null,
   "metadata": {},
   "outputs": [],
   "source": [
    "bb = np.arange(1,10,2) # start at 1, end before 10, increment by 2\n",
    "bb"
   ]
  },
  {
   "cell_type": "markdown",
   "metadata": {},
   "source": [
    "`Arrays` also have indices.  Like `Lists`, the first index of an array is 0"
   ]
  },
  {
   "cell_type": "code",
   "execution_count": null,
   "metadata": {},
   "outputs": [],
   "source": [
    "bb[0] # the first element in the array"
   ]
  },
  {
   "cell_type": "code",
   "execution_count": null,
   "metadata": {},
   "outputs": [],
   "source": [
    "bb[-1] # the last element in the array"
   ]
  },
  {
   "cell_type": "markdown",
   "metadata": {},
   "source": [
    "So why use an `Array` instead of a `List` ? \n",
    "\n",
    "* Reason 1. The range function only increments by integer values.*"
   ]
  },
  {
   "cell_type": "code",
   "execution_count": null,
   "metadata": {},
   "outputs": [],
   "source": [
    "a = list(range(10)) # increment by 1, starting at 0, ending before 10"
   ]
  },
  {
   "cell_type": "code",
   "execution_count": null,
   "metadata": {},
   "outputs": [],
   "source": [
    "# Try to create a list that starts at 1, ends at 10 and increments by 0.1 \n",
    "list(range(1,10,0.1)) "
   ]
  },
  {
   "cell_type": "code",
   "execution_count": null,
   "metadata": {},
   "outputs": [],
   "source": [
    "# Instead do this with an array\n",
    "np.arange(1,10,0.1)"
   ]
  },
  {
   "cell_type": "markdown",
   "metadata": {},
   "source": [
    "* Reason 2. With an `array` you can act on the entire set of numbers without requiring a `for loop` *\n",
    "\n",
    "Increase each item in the `List` `a` by a factor of 2."
   ]
  },
  {
   "cell_type": "code",
   "execution_count": null,
   "metadata": {},
   "outputs": [],
   "source": [
    "# For the List a, this is done using a for loop.\n",
    "\n",
    "for i in a:\n",
    "    a[i] *= 2\n",
    "\n",
    "print(a)"
   ]
  },
  {
   "cell_type": "markdown",
   "metadata": {},
   "source": [
    "We can use `List comprehension` to generate a much more efficient version.\n",
    " The below is equivalent to the above."
   ]
  },
  {
   "cell_type": "code",
   "execution_count": null,
   "metadata": {},
   "outputs": [],
   "source": [
    "a = list(range(10)) # reset the list \n",
    "\n",
    "newlist = [i*2 for i in a]\n",
    "print(newlist)"
   ]
  },
  {
   "cell_type": "markdown",
   "metadata": {},
   "source": [
    "Now instead increase each element in the `Array` `bb` by a factor of 2"
   ]
  },
  {
   "cell_type": "code",
   "execution_count": null,
   "metadata": {},
   "outputs": [],
   "source": [
    "# For the array b, increasing each elements by a factor of 2 is much simpler\n",
    "bb *= 2 # or equivalently bb = bb*2\n",
    "print(bb)"
   ]
  },
  {
   "cell_type": "markdown",
   "metadata": {},
   "source": [
    "* Reason 3.  Arrays have more efficient index slicing capabilities with conditional statements *\n",
    "\n",
    "\n",
    "`numpy arrays` have a special feature that enables efficient index slicing with conditionals without using `for loops`.  \n",
    "\n",
    "`name_of_array[conditional statement]`\n",
    "\n",
    "Where the indices are specified by the conditional statement.\n",
    "\n",
    "Examine the example below, which computes a new array called `evens` containing all even numbers between 1 and 20, inclusively, given an original array `z` of all numbers from 1 to 20 inclusively. "
   ]
  },
  {
   "cell_type": "code",
   "execution_count": null,
   "metadata": {},
   "outputs": [],
   "source": [
    "z = np.arange(1,21) # first define a new array with all integers from 1 to 20 inclusively.\n",
    "print(z) # print it to the screen"
   ]
  },
  {
   "cell_type": "code",
   "execution_count": null,
   "metadata": {},
   "outputs": [],
   "source": [
    "# now define a new array that is a subset of the original array z, \n",
    "# but the desired indices are the elements in z that satisfy the condition z%2 == 0.\n",
    "\n",
    "evens = z[z%2 ==0] # this new array contains only the even numbers in z.\n",
    "print(evens)"
   ]
  },
  {
   "cell_type": "markdown",
   "metadata": {},
   "source": [
    "The below example prints all numbers between 5 and 15, non-inclusively. \n",
    "Note that we have used the bit-wise operator `&` here instead of the boolean operator `and`"
   ]
  },
  {
   "cell_type": "code",
   "execution_count": null,
   "metadata": {},
   "outputs": [],
   "source": [
    "print(z[(z>5) & (z<15)])"
   ]
  },
  {
   "cell_type": "markdown",
   "metadata": {},
   "source": [
    "* Reason 4. Arrays can also have additional columns (2D, 3D, etc.) - but we'll practice that in another class *"
   ]
  },
  {
   "cell_type": "markdown",
   "metadata": {},
   "source": [
    "# 7. A more complicated Array Slicing Example"
   ]
  },
  {
   "cell_type": "code",
   "execution_count": null,
   "metadata": {},
   "outputs": [],
   "source": [
    "def primesTo(N):\n",
    "    is_prime = np.ones(N + 1, np.bool) # uses 1 byte/number rather than 4 or 8\n",
    "\n",
    "    # get rid of multiples of two\n",
    "    is_prime[4::2] = 0\n",
    "\n",
    "    # get rid of multiples of the odd numbers three and higher\n",
    "    for n in range(3, int(N**0.5 + 1.5), 2):\n",
    "        if is_prime[n]:\n",
    "            is_prime[n*n::n] = 0\n",
    "\n",
    "    # np.nonzero return an array of the indices where values are nonzero...\n",
    "    # np.nonzero return a tuple of numpy arrays; the [0] gets the array,\n",
    "    # and the [2:] ignores zero and one\n",
    "    return np.nonzero(is_prime)[0][2:]\n"
   ]
  },
  {
   "cell_type": "code",
   "execution_count": null,
   "metadata": {},
   "outputs": [],
   "source": [
    "primesTo(15)"
   ]
  },
  {
   "cell_type": "code",
   "execution_count": null,
   "metadata": {},
   "outputs": [],
   "source": []
  }
 ],
 "metadata": {
  "kernelspec": {
   "display_name": "Python 3",
   "language": "python",
   "name": "python3"
  },
  "language_info": {
   "codemirror_mode": {
    "name": "ipython",
    "version": 3
   },
   "file_extension": ".py",
   "mimetype": "text/x-python",
   "name": "python",
   "nbconvert_exporter": "python",
   "pygments_lexer": "ipython3",
   "version": "3.7.7"
  }
 },
 "nbformat": 4,
 "nbformat_minor": 4
}
