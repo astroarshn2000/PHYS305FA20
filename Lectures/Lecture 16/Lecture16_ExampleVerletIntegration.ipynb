{
 "cells": [
  {
   "cell_type": "markdown",
   "metadata": {},
   "source": [
    "# Announcements\n",
    "- Please familiarize yourself with the term projects, and sign up for your (preliminary) choice using [this form](https://forms.gle/ByLLpsthrpjCcxG89). _You may revise your choice, but I'd recommend settling on a choice well before Thanksgiving._\n",
    "- Recommended reading on ODEs: [Lecture notes by Prof. Hjorth-Jensen (University of Oslo)](https://www.asc.ohio-state.edu/physics/ntg/6810/readings/hjorth-jensen_notes2013_08.pdf)\n",
    "- Problem Set 4 posted on D2L, due Oct 5.\n",
    "- __Outlook__: completing ODE examples this week, then Partial Differential Equations (PDEs) \n",
    "- Conference for Undergraduate Women in Physics: online event in 2021, [applications accepted until 10/25](https://www.aps.org/programs/women/cuwip/)"
   ]
  },
  {
   "cell_type": "markdown",
   "metadata": {},
   "source": [
    "# Special Considerations: Symplectic Integrators\n",
    "Some systems of ODEs have special properties, for example constants of motion, that should be\n",
    "conserved by the system. Simple examples in mechanics are the energy, linear momentum, and angular\n",
    "momentum. Sometimes it is more important to build in to the integration scheme these conservation\n",
    "laws than to achieve a high accuracy per step size. Normally, the error in the solution grows as the\n",
    "solution evolves, bounded by the number of steps times the error per step.  For certain schemes,\n",
    "however, while they still make errors, the errors will be of such a form that the conserved quantities\n",
    "will be better preserved.\n"
   ]
  },
  {
   "cell_type": "markdown",
   "metadata": {},
   "source": [
    "In Lecture 15 we derived the __velocity form__ of the Verlet algorithm\n",
    "\\begin{align}\n",
    "x_{n+1} &= x_n + v_n\\delta t + {1\\over 2}a_n(\\delta t)^2 + \\mathcal{O}(\\delta t^3) \\tag{1a}\\\\\n",
    "a_{n+1} &= a(x_{n+1}) \\label{eq:Vv}\\tag{1b}\\\\\n",
    "v_{n+1} &= v_n + {1\\over 2}\\left(a_n + a_{n+1}\\right)\\delta t + \\mathcal{O}(\\delta t^2).\\tag{1c}\n",
    "\\end{align}\n",
    "\n",
    "While the velocity computed in this way is only\n",
    "first-order accurate, if the acceleration depends only upon position, then the\n",
    "velocity appears only where multiplied by $\\delta t$ in determining the positions and so\n",
    "second-order accuracy is preserved. Of course, if determining the velocity to\n",
    "high accuracy is required, then one might turn to a different scheme. On the\n",
    "other hand, if the acceleration depends upon the velocity (for example, a drag\n",
    "term), there are fewer constants of the motion to be conserved anyway, and one\n",
    "of the higher-order schemes developed previously would serve.\n",
    "<span style=\"color:red\"> Note that Eq.(\\ref{eq:Vv}) evaluates $a_{n+1}$ before $v_{n+1}$ can be computed, so the acceleration should only be a function of position, not velocity. _This is by design, as the derivation of the Verlet algorithm was based on conservation of energy._ </span>\n",
    "\n",
    "Here's one implementation of the velocity Verlet algorithm. Note that we compute the acceleration $a_n$ and $a_{n+1}$ in each call; this is not optimal computationally, but easier to read and use with our existing `odeSolve` code."
   ]
  },
  {
   "cell_type": "code",
   "execution_count": 1,
   "metadata": {},
   "outputs": [],
   "source": [
    "import numpy as np\n",
    "def vVerlet_step(g, t, x,v, h, *P):\n",
    "    \"\"\"Implements a full step h of the velocity Verlet algorithm\n",
    "    Parameters:\n",
    "        g: function. RHS of ODE, with signature g(t,y[0],*P).\n",
    "        x: Current position x.\n",
    "        v: Current velocity v.\n",
    "        h: float. Step length.\n",
    "        *P:    tuple, additional parameters for g function\n",
    "    Returns:\n",
    "        x,v: numpy arrays: next position, next velocity\n",
    "    \"\"\"\n",
    "    a_current = g(x,*P) \n",
    "    \n",
    "    #advance the position: x_n -> x_n+1\n",
    "    x += v*h+a_current*h**2\n",
    "    #compute a_n+1\n",
    "    a_next = g(x,*P)\n",
    "    #advance the velocity v_n -> v_n+1\n",
    "    v +=(a_current+a_next)*h**2\n",
    "    return x,v"
   ]
  },
  {
   "cell_type": "markdown",
   "metadata": {},
   "source": [
    "## Example: Planetary Motion \n",
    "Today we will study the orbits of two masses interacting through gravity.\n",
    "\n",
    "In general, the gravitational force on object $j$ with mass $m_j$ and position $\\vec{r}_j$ through its gravitational interaction with objects $i$ with mass $m_i$ and position $\\vec{x}_i$ is given by\n",
    "$$\n",
    "\\vec F_j = -\\sum_{i\\ne j}\\frac{G m_j m_i}{|\\vec x_i - \\vec x_j|^2} \\times \\frac{\\left(\\vec x_i - \\vec x_j\\right)}{|\\vec x_i - \\vec x_j|}\\,\n",
    "$$\n",
    "with the unit vector $\\hat{\\vec{x}} = \\frac{\\vec{x}}{|x|}$. _Note the direction of this force, gravity should pull two particles closer to each other! If that's not the case in your implementation, this is a good point to start..._\n",
    "\n",
    "In the __special case of a two-particle system__, we can rewrite this in terms of the separation vector $\\vec r = \\vec x_1 - \\vec x_2$ and total mass $M= m_1+m_2$ such that \n",
    "the gravitational acceleration $\\vec{a}_i=\\vec{F}_i/m_i$ is given by\n",
    "\\begin{align}\n",
    "\\vec{a}(\\vec r) &= -\\frac{G M}{|r|^2} \\hat{\\vec{r}}\\,.\\label{eq:aG}\\tag{2}\n",
    "\\end{align}\n",
    "In this case, in the center of mass reference frame, the kinetic energy is given by\n",
    "$$T =  \\frac{1}{2}M\\dot{\\vec r}^2$$\n",
    "and the potential energy is given by \n",
    "$$U(\\vec r) =-\\frac{G m_1 m_2 }{|r|} $$\n",
    "_Compared to previous lectures, we will now work with vectorized positions and velocities (rather than writing a separate ODE for each coordinate component). This will later require a small adaption to our function `odeSolve`:_\n",
    "\n",
    "<span style=\"color:blue\"> \n",
    "Now use `vVerlet_step` to __integrate simplified planetary orbits__: \n",
    "Set $GM = 1$ and try initial conditions\n",
    "$$\n",
    "x(0) = 0.5, \\quad y(0)=0, \\quad v_x(0)=0, \\quad v_y(0)=1.63\\,.\n",
    "$$\n",
    "You will need to define a function `a_gravity` to evaluate the gravitational force, and later on you will need a function to calculate the potential energy `U_gravity` as well.\n",
    "    \n",
    "## Velocity Verlet vs RK4: Energy conservation\n",
    "Assess the stability of `RK4` and `Velocity Verlet` by checking energy conservation over longer simulation times.\n",
    "\n",
    "<span style=\"color:blue\"> In order to use `R4K` for integrating this problem, turn Equation(\\ref{eq:aG}) into a system of ODEs for the vectorized position and velocity, so that you can reuse the code below. </span>"
   ]
  },
  {
   "cell_type": "code",
   "execution_count": 77,
   "metadata": {},
   "outputs": [],
   "source": [
    "import numpy as np\n",
    "import matplotlib\n",
    "import matplotlib.pyplot as plt\n",
    "\n",
    "\n",
    "def a_gravity(r, G=1, M=1):\n",
    "    rr = np.sum(r*r)\n",
    "    rhat = r/np.sqrt(rr)\n",
    "    return - G*M/rr * rhat\n",
    "\n",
    "def U_gravity(r, m=1, G=1, M=1):\n",
    "    #this assumes the r is a 1D vector, not a 2D array\n",
    "    return -G*m*M/np.sqrt(np.sum(r*r))\n",
    "\n",
    "def analyze_Energy(r,v, m=1, G=1, M=1):\n",
    "    if (len(r.shape) == 1): # r is simple vector\n",
    "        return 0.5*np.sum(v*v)*M+U_gravity(r,m=m,G=G,M=M)\n",
    "    else:\n",
    "        n_steps, ndim = r.shape\n",
    "        E = np.zeros(n_steps)\n",
    "        for i in range(n_steps):\n",
    "            E[i] = 0.5*np.sum(v[i,:]*v[i,:])*M+U_gravity(r[i,:],m=m,G=G,M=M)\n",
    "def simplified_verlet_wrapper(tmax =2000, h = 1):\n",
    "    dim = 3\n",
    "\n",
    "    r0 = np.array([0.5, 0,0])\n",
    "    v0 = np.array([0, 1.63,0])\n",
    "    mass = 1\n",
    "    nsteps = int(t_max/h)\n",
    "\n",
    "    r = np.zeros((nsteps, dim))\n",
    "    v = np.zeros_like(r)\n",
    "\n",
    "    r[0, :] = r0\n",
    "    v[0, :] = v0\n",
    "    for i in range(nsteps-1):\n",
    "    #write your Verlet integration here, without worrying about consistency with odeSolve conventiosn\n",
    "    return r,v"
   ]
  },
  {
   "cell_type": "code",
   "execution_count": 78,
   "metadata": {},
   "outputs": [],
   "source": [
    "r,v = simplified_verlet_wrapper()"
   ]
  },
  {
   "cell_type": "code",
   "execution_count": 79,
   "metadata": {},
   "outputs": [
    {
     "data": {
      "text/plain": [
       "[<matplotlib.lines.Line2D at 0x114255250>]"
      ]
     },
     "execution_count": 79,
     "metadata": {},
     "output_type": "execute_result"
    },
    {
     "data": {
      "image/png": "[encoded data removed]",
      "text/plain": [
       "<Figure size 432x288 with 1 Axes>"
      ]
     },
     "metadata": {
      "needs_background": "light"
     },
     "output_type": "display_data"
    }
   ],
   "source": [
    "rx, ry = r[:,0],r[:,1]\n",
    "ax = plt.subplot(1,1,1)\n",
    "ax.set_aspect(1)\n",
    "ax.plot(rx, ry)\n"
   ]
  },
  {
   "cell_type": "markdown",
   "metadata": {},
   "source": [
    "<span style=\"color:blue\"> Write down the system of ODEs that you want to solve with RK4, and define the corresponding `a_gravity_RK4` function.\n",
    "</span>"
   ]
  },
  {
   "cell_type": "code",
   "execution_count": null,
   "metadata": {},
   "outputs": [],
   "source": []
  },
  {
   "cell_type": "code",
   "execution_count": 4,
   "metadata": {},
   "outputs": [],
   "source": [
    "# code copied from Lecture 12/13\n",
    "# you don't need to change anything in this cell\n",
    "def RK4_step(t, y, h, g, *P):\n",
    "    \"\"\"\n",
    "    Implements a single step of a fourth-order, explicit Runge-Kutta scheme\n",
    "    \"\"\"\n",
    "    thalf = t + 0.5*h\n",
    "    k1 = h * g(t, y, *P)\n",
    "    k2 = h * g(thalf, y + 0.5*k1, *P)\n",
    "    k3 = h * g(thalf, y + 0.5*k2, *P)\n",
    "    k4 = h * g(t + h, y + k3, *P)\n",
    "    return y + (k1 + 2*k2 + 2*k3 + k4)/6"
   ]
  },
  {
   "cell_type": "markdown",
   "metadata": {},
   "source": [
    "<span style=\"color:blue\"> Next, we will consider the conservation of energy of the velocity Verlet algorithm and RK4.\n",
    "Plot the total energy for both solvers as a function of time, for varying step sizes.</span>"
   ]
  },
  {
   "cell_type": "code",
   "execution_count": null,
   "metadata": {},
   "outputs": [],
   "source": []
  }
 ],
 "metadata": {
  "kernelspec": {
   "display_name": "Python 3",
   "language": "python",
   "name": "python3"
  },
  "language_info": {
   "codemirror_mode": {
    "name": "ipython",
    "version": 3
   },
   "file_extension": ".py",
   "mimetype": "text/x-python",
   "name": "python",
   "nbconvert_exporter": "python",
   "pygments_lexer": "ipython3",
   "version": "3.7.7"
  }
 },
 "nbformat": 4,
 "nbformat_minor": 4
}
