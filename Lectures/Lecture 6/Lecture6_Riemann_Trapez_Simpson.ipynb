{
 "cells": [
  {
   "cell_type": "markdown",
   "metadata": {},
   "source": [
    "<style>\n",
    "@import url(https://www.numfys.net/static/css/nbstyle.css);\n",
    "</style>\n",
    "<a href=\"https://www.numfys.net\"><img class=\"logo\" /></a>\n",
    "\n",
    "# Trapezoidal and Simpson’s Rule\n",
    "\n",
    "### Numerical Integration"
   ]
  },
  {
   "cell_type": "markdown",
   "metadata": {},
   "source": [
    "### The Task"
   ]
  },
  {
   "cell_type": "markdown",
   "metadata": {},
   "source": [
    "How do we determine a definite integral like\n",
    "$$\\int_a^b f(x) \\mathrm{d}x$$\n",
    "if we cannot solve it analytically, i.e. if we cannot find a function $F(x)$ with\n",
    "$$\\frac{\\mathrm{d}}{\\mathrm{d}x}F(x) = f(x)$$\n",
    "and \n",
    "$$ \\int_a^b f(x) \\mathrm{d}x = F(b)-F(a).$$"
   ]
  },
  {
   "cell_type": "markdown",
   "metadata": {},
   "source": [
    "### Example"
   ]
  },
  {
   "cell_type": "markdown",
   "metadata": {},
   "source": [
    "We cannot determine the integral\n",
    "$$ \\int_0^1 \\sqrt{x^5+e^{5x}} \\mathrm{d}x$$\n",
    "analytically. So what do we do?\n",
    "\n",
    "Let's plot the integrand $f(x)=\\sqrt{x^5+e^{5x}}$ for $x\\in[0,1]$. First we import the necessary libraries and set some figure parameters:"
   ]
  },
  {
   "cell_type": "code",
   "execution_count": null,
   "metadata": {},
   "outputs": [],
   "source": [
    "%matplotlib inline\n",
    "import numpy as np\n",
    "import matplotlib.pyplot as plt\n",
    "\n",
    "# Set common figure parameters\n",
    "newparams = {'figure.figsize': (16, 6), 'axes.grid': True,\n",
    "             'lines.linewidth': 1.5, 'lines.markersize': 10,\n",
    "             'font.size': 14}\n",
    "plt.rcParams.update(newparams)"
   ]
  },
  {
   "cell_type": "code",
   "execution_count": null,
   "metadata": {},
   "outputs": [],
   "source": [
    "x = np.linspace(0,1,100)\n",
    "def f(x): return np.sqrt(x**5+np.exp(5*x))\n",
    "\n",
    "plt.plot(x, f(x),linewidth = 3)\n",
    "plt.ylabel(r'$f(x)$')\n",
    "plt.xlabel(r'$x$');"
   ]
  },
  {
   "cell_type": "markdown",
   "metadata": {},
   "source": [
    "We know that the integral represents, in this case, the area under the graph. The area is well defined and finite.\n",
    "\n",
    "We could approximate it by a Riemann sum. For this purpose, we divide the interval $[0, 1]$ into $N − 1$ intervals of the same\n",
    "length $h$ with\n",
    "$$h = \\frac{1}{N-1}.$$\n",
    "\n",
    "The endpoints of these intervals are located at\n",
    "$$x_n = (n-1)h,\\qquad \\mathrm{with}\\quad n=1,2,3,...,N.$$\n",
    "This leads naturally to the definition of a rectangle for each interval $[x_n, x_{n+1}]$ whose height is determined by the value of the function at $x_n$, i.e. $f(x_n)$."
   ]
  },
  {
   "cell_type": "markdown",
   "metadata": {},
   "source": [
    "For N = 6, we can sketch this in our previous plot. But first we need to define a function for drawing trapezoids:"
   ]
  },
  {
   "cell_type": "code",
   "execution_count": null,
   "metadata": {},
   "outputs": [],
   "source": [
    "from matplotlib.path import Path\n",
    "import matplotlib.patches as patches\n",
    "\n",
    "def draw_trapezoid(xpoints, ypoints):\n",
    "    \"\"\" Function for drawing trapezoids. Takes arrays of x- and y-values as input,\n",
    "    moving clockwise from bottom left corner. \"\"\"\n",
    "    verts = [\n",
    "        (xpoints[0], ypoints[0]), # left, bottom\n",
    "        (xpoints[1], ypoints[1]), # left, top\n",
    "        (xpoints[2], ypoints[2]), # right, top\n",
    "        (xpoints[3], ypoints[3]), # right, bottom\n",
    "        (0., 0.), # ignored\n",
    "        ]\n",
    "\n",
    "    codes = [Path.MOVETO,\n",
    "             Path.LINETO,\n",
    "             Path.LINETO,\n",
    "             Path.LINETO,\n",
    "             Path.CLOSEPOLY,\n",
    "             ]\n",
    "\n",
    "    path = Path(verts, codes)\n",
    "    ax = plt.gca()\n",
    "    patch = patches.PathPatch(path, facecolor='#d3d3d3', lw=1)\n",
    "    ax.add_patch(patch)"
   ]
  },
  {
   "cell_type": "code",
   "execution_count": null,
   "metadata": {},
   "outputs": [],
   "source": [
    "plt.plot(x, f(x),linewidth = 3)\n",
    "plt.ylabel(r'$f(x)$')\n",
    "plt.xlabel(r'$x$')\n",
    "\n",
    "# Plot rectangles:\n",
    "N = 6\n",
    "h = 1./(N-1)\n",
    "for n in range(1,N):\n",
    "    draw_trapezoid([(n-1)*h,(n-1)*h,n*h,n*h], [0,f((n-1)*h),f((n-1)*h),0])\n",
    "    \n",
    "plt.show()"
   ]
  },
  {
   "cell_type": "markdown",
   "metadata": {},
   "source": [
    "We can see that we make a fairly large error in our estimate of the integral when we use these rectangles. How can we do better?"
   ]
  },
  {
   "cell_type": "markdown",
   "metadata": {},
   "source": [
    "### Trapezoidal Rule"
   ]
  },
  {
   "cell_type": "markdown",
   "metadata": {},
   "source": [
    "One way to go forward is to make the intervals smaller. In the limit when their length goes to zero, we should find the exact value of the integral.\n",
    "\n",
    "However, this is impractical on the computer since it involves infinitely many calculations. What else can we do?\n",
    "\n",
    "Well, a better approximation can already be obtained with our last set of intervals if we use trapezoids instead. Two sides (top and bottom) of each trapezoid are determined by the interval along the x-axis, while the other two sides (left and right) are determined by the values of the function $f(x)$ at each end of the interval.\n",
    "Let’s see what this looks like in the plot."
   ]
  },
  {
   "cell_type": "code",
   "execution_count": null,
   "metadata": {},
   "outputs": [],
   "source": [
    "plt.plot(x, f(x),linewidth = 3)\n",
    "plt.ylabel(r'$f(x)$')\n",
    "plt.xlabel(r'$x$')\n",
    "\n",
    "# Plot trapezoids:\n",
    "N = 6\n",
    "h = 1/(N-1)\n",
    "for n in range(1,N):\n",
    "    draw_trapezoid([(n-1)*h,(n-1)*h,n*h,n*h], [0,f((n-1)*h),f((n)*h),0])\n"
   ]
  },
  {
   "cell_type": "markdown",
   "metadata": {},
   "source": [
    "It seems that we are making a much smaller error than before, given the same set of intervals. The error seems to increase when the curvature of the graph increases (towards the right in this plot)."
   ]
  },
  {
   "cell_type": "markdown",
   "metadata": {},
   "source": [
    "Let us derive a formula for the area that the trapezoids cover. Using our notation above, the area of a trapezoid is given by\n",
    "$$A_n=h\\frac{f_n+f_{n+1}}{2} $$\n",
    "with $f_n=f(x_n)$.\n",
    "Here, $h$ is the length of each interval, and hence the length of the base of each trapezoid, and the expression\n",
    "￼$$\\frac{f_n + f_{n+1}}{2}$$\n",
    "represents the \"average height\" of the corresponding trapezoid."
   ]
  },
  {
   "cell_type": "markdown",
   "metadata": {},
   "source": [
    "Adding up all the trapezoids, we obtain the total area\n",
    "$$A=A_1 +A_2 +A_3 +...+A_{N−1}$$\n",
    "and so\n",
    "$$A=h\\frac{f_1 +f_2}{2} +h\\frac{f_2 +f_3}{2} +h\\frac{f_3 +f_4}{2} +...h\\frac{f_{N−1} +f_N}{2}.$$\n",
    "\n",
    "Factoring out h and rearranging terms gives\n",
    "$$A=h\\left(\\frac{1}{2}f_1+f_2+f_3+...+f_{N−1}+\\frac{1}{2}f_N\\right).$$\n",
    "\n",
    "This formula describes the __trapezoidal rule__ and approximates the original integral."
   ]
  },
  {
   "cell_type": "markdown",
   "metadata": {},
   "source": [
    "The factors inside the bracket are 0.5, 1, 1, ..., 1, 0.5. This stems from the fact that we only use the endpoints 0 and 1 once in our calculation while all other points are involved twice in the determination of trapezoidal areas.\n",
    "\n",
    "Note that we do not need to assume an interval $[0, 1]$. Instead, we can use this method for any interval $[a, b]$. The definitions then change to \n",
    "$$h= \\frac{b−a}{N-1}\\qquad \\mathrm{and} \\qquad x_n =a+(n−1)h.$$\n",
    "    This way, we can approximate the integral by\n",
    "$$\\boxed{\\int_a^b f(x) \\mathrm{d}x \\approx h\\left(\\frac{1}{2}f_1+f_2+f_3+...+f_{N−1}+\\frac{1}{2}f_N\\right).}$$"
   ]
  },
  {
   "cell_type": "markdown",
   "metadata": {},
   "source": [
    "It can be shown that this method contains an error (i.e. actual value of the definite integral vs. numerical value) that is proportional to\n",
    "\n",
    "1. $(b−a)^3$,\n",
    "2. $\\frac{1}{N^2}$, and\n",
    "3. the (maximum) magnitude of the second derivative of $f(x)$\n",
    "over the respective interval.\n",
    "\n",
    "Hence, doubling the amount of intervals reduces the error by a factor of four! However, choosing very large $N$ is not a good idea for two reasons:\n",
    "- It increases the computational time.\n",
    "- The computer has finite precision; rounding errors become important!"
   ]
  },
  {
   "cell_type": "markdown",
   "metadata": {},
   "source": [
    "The second derivative is linked to the curvature of the graph and we saw above that the error indeed increased where the curvature was larger. This makes sense since we are trying to approximate a curved graph with a straight line.\n",
    "\n",
    "Let's approximate the integral\n",
    "$$ \\int_0^1 \\sqrt{x^5+e^{5x}} \\mathrm{d}x$$\n",
    "for various $N$. As we increase N, the values for the trapezoidal rule converge. Try it yourself!\n",
    "Compare to the Riemann sum!"
   ]
  },
  {
   "cell_type": "code",
   "execution_count": null,
   "metadata": {},
   "outputs": [],
   "source": [
    "# Define the interval\n",
    "a = 0.0\n",
    "b = 1.0\n",
    "\n",
    "N = 1000                # defining the amount of points making up the smaller intervals\n",
    "n = np.linspace(1, N, N)\n",
    "h = (b-a)/(N-1)         # defining the length of each small interval\n",
    "\n",
    "area_trapez = 0                # setting the area to zero\n",
    "area_riemann = 0                # setting the area to zero\n",
    "\n",
    "for i in n:\n",
    "    x = a + (i-1)*h\n",
    "    func = np.sqrt(x**5+np.exp(5*x))\n",
    "    if (i==1 or i==N):  # First and last point\n",
    "        area_trapez += 0.5*func*h\n",
    "        if(i==N):\n",
    "            area_riemann += 0.\n",
    "    else:\n",
    "        area_trapez += func*h\n",
    "        area_riemann += func*h\n",
    "        \n",
    "print(r'The value of the integral (trapezoidal rule) is %f.' % area_trapez)\n",
    "print(r'The value of the integral (riemann rule)is %f.' % area_riemann)"
   ]
  },
  {
   "cell_type": "markdown",
   "metadata": {},
   "source": [
    "___"
   ]
  },
  {
   "cell_type": "markdown",
   "metadata": {},
   "source": [
    "### Simpson's Rule"
   ]
  },
  {
   "cell_type": "markdown",
   "metadata": {},
   "source": [
    "__Question:__\n",
    "Is there a better, i.e. more precise, method to approximate an integral? Can we do just as well with fewer intervals?\n",
    "\n",
    "__Answer:__\n",
    "Yes, there are several methods.\n",
    "One method is called __Simpson’s rule__. The idea behind this method is that we do not approximate the graph locally by a straight line, as is the case for the trapezoidal method, but rather by a polynomial of order 2. This means that we approximate the function $f(x)$ in each subinterval by\n",
    "$$f(x) \\approx c_n x^2 + d_n x + e_n =: g_n(x).$$\n",
    "The parameters $c_n$, $d_n$, $e_n$ are chosen so that $f(x)$ and $g_n(x)$ coincide at the endpoints of the interval and at its midpoint."
   ]
  },
  {
   "cell_type": "markdown",
   "metadata": {},
   "source": [
    "#### Example:"
   ]
  },
  {
   "cell_type": "markdown",
   "metadata": {},
   "source": [
    "Let us plot our original function and approximate it by a second-order polynomial with the above characteristics. We get the equations\n",
    "\\begin{align*}\n",
    "e_n &= f(0), \\\\\n",
    "\\frac{1}{4}c_n+\\frac{1}{2}d_n+e_n &= f(0.5), \\\\\n",
    "c_n+d_n+e_n &= f(1),\n",
    "\\end{align*}\n",
    "which yields\n",
    "\\begin{align*}\n",
    "c_n &= 2f(1)-4f(0.5)+2f(0),\\\\\n",
    "d_n &= -f(1) + 4f(0.5) - 3f(0),\\\\\n",
    "e_n &= f(0).\n",
    "\\end{align*}"
   ]
  },
  {
   "cell_type": "code",
   "execution_count": null,
   "metadata": {},
   "outputs": [],
   "source": [
    "# Determine the parameter values:\n",
    "c_n = 2*(f(1)-2*f(0.5)+f(0))\n",
    "d_n = -f(1)+4*f(0.5)-3*f(0)\n",
    "e_n = f(0)\n",
    "\n",
    "x = np.linspace(0,1,100)\n",
    "def g(x): return c_n*x**2 + d_n*x + e_n\n",
    "\n",
    "plt.plot(x, f(x), x, g(x))\n",
    "plt.ylabel(r'$f(x)$')\n",
    "plt.xlabel(r'$x$')\n",
    "plt.legend([r'$f(x)$', r'$g(x)$'], loc=2);"
   ]
  },
  {
   "cell_type": "markdown",
   "metadata": {},
   "source": [
    "We see that the polynomial describes the original function already quite well. And we have not even started to divide the interval $[0, 1]$ into subintervals..."
   ]
  },
  {
   "cell_type": "markdown",
   "metadata": {},
   "source": [
    "It is important to note that Simpson’s rule requires and odd number of points ($N$ = 3, 5, 7, ...) along the $x$-axis since we need to use three points for each interval, i.e. left endpoint, right endpoint and midpoint.\n",
    "\n",
    "At the same time, two adjacent intervals share one endpoint, i.e. the right endpoint of one interval coincides with the left endpoint of another interval (except at $x = b$).\n",
    "\n",
    "All along, we still maintain a uniform division of the original interval $[a, b]$ into smaller subintervals."
   ]
  },
  {
   "cell_type": "markdown",
   "metadata": {},
   "source": [
    "The simplest case is using three points for the original interval, representing one interval with one midpoint:\n",
    "$$x_1 =a,\\, x_2 =\\frac{b-a}{2},\\, x_3 =b.$$\n",
    "This case is exhibited in the previous plot. In this case, it can be shown that the integral approximation reduces to\n",
    "$$\\int_a^b f(x) \\mathrm{d}x \\approx \\frac{b-a}{6}\\left[f(x_1)+4f(x_2)+f(x_3)\\right].$$\n",
    "The next case uses five points: two intervals with one midpoint each. Now, we obtain\n",
    "$$\\int_a^b f(x) \\mathrm{d}x \\approx \\frac{h}{3}\\left[f(x_1)+4f(x_2)+2f(x_3)+4f(x_4)+f(x_5)\\right],$$\n",
    "where $h$ is the distance between two successive points along the $x$-axis. This scenario is plotted below."
   ]
  },
  {
   "cell_type": "code",
   "execution_count": null,
   "metadata": {},
   "outputs": [],
   "source": [
    "N = 5\n",
    "h = (b-a)/(N-1)\n",
    "# Plot lines\n",
    "color = ['r', 'g', 'r', 'g', 'r']\n",
    "for i in range(N):\n",
    "    plt.plot([i*h, i*h],[0, f(i*h)], color[i], lw=2)\n",
    "\n",
    "plt.plot(x, f(x),lw=2)\n",
    "plt.ylabel(r'$f(x)$')\n",
    "plt.xlabel(r'$x$');"
   ]
  },
  {
   "cell_type": "markdown",
   "metadata": {},
   "source": [
    "The case of two intervals: $[0, 0.5]$ and $[0.5, 1]$. We have a total of 5 points along the $x$-axis, namely 3 interval endpoints $(x_1 = 0,\\, x_3 = 0.5,\\, x_5 = 1)$ and 2 midpoints\n",
    "$(x_2 = 0.25,\\, x_4 = 0.75)$. Simpson’s rule employs second-order polynomials in each interval."
   ]
  },
  {
   "cell_type": "markdown",
   "metadata": {},
   "source": [
    "The general expression for an arbitrary amount of intervals is\n",
    "$$\\int_a^b f(x) \\mathrm{d}x \\approx \\frac{h}{3}\\left[f(x_1)+4f(x_2)+2f(x_3)+4f(x_4)+...2f(x_{N-2})+4f(x_{N-1})+f(x_N)\\right],$$\n",
    "or using our previous notation above\n",
    "$$\\boxed{\\int_a^b f(x) \\mathrm{d}x \\approx \\frac{h}{3}\\left[f_1+4f_2+2f_3+4f_4+...+2f_{N-2}+4f_{N-1}+f_N\\right].}$$\n",
    "Let us compute the same integral as for the trapezoidal rule, only this time using Simpson’s rule."
   ]
  },
  {
   "cell_type": "code",
   "execution_count": null,
   "metadata": {},
   "outputs": [],
   "source": [
    "a = 0.0           # defining the interval\n",
    "b = 1.0           # defining the interval\n",
    "N = 3             # defining the amount of points making up the smaller intervals\n",
    "n = np.linspace(1, N, N)\n",
    "h = (b-a)/(N-1)   # defining the length of each small interval\n",
    "area = 0          # setting the aera to zero\n",
    " \n",
    "for i in n:\n",
    "    x = a+(i-1)*h        \n",
    "    func = np.sqrt(x**5+np.exp(5*x))\n",
    "    if (i==1) | (i==N):    # if we are at the left or right end of the main\n",
    "        area += func         # interval \n",
    "    else:\n",
    "        if i%2==0:         # if we are at an \"even\" point\n",
    "            area += 4*func     \n",
    "        else:              # if we are at an \"odd\" point\n",
    "            area += 2*func\n",
    " \n",
    "area = (h/3)*area    # multiplying everything by h/3\n",
    "\n",
    "print(r'The value of the integral is %f.' % area)"
   ]
  },
  {
   "cell_type": "markdown",
   "metadata": {},
   "source": [
    "Try for different $N$. Does it converge faster than before?"
   ]
  },
  {
   "cell_type": "markdown",
   "metadata": {},
   "source": [
    "In contrast to the trapezoidal rule, Simpson’s rule contains an error that is proportional to\n",
    "1. $(b−a)^5$,\n",
    "2. $\\frac{1}{N^4},$ and\n",
    "3. the (maximum) magnitude of the fourth derivative of $f(x)$ over the respective interval.\n",
    "\n",
    "In other words, it is superior in accuracy to the trapezoidal rule with respect to the amount of intervals $N$."
   ]
  }
 ],
 "metadata": {
  "kernelspec": {
   "display_name": "Python 3",
   "language": "python",
   "name": "python3"
  },
  "language_info": {
   "codemirror_mode": {
    "name": "ipython",
    "version": 3
   },
   "file_extension": ".py",
   "mimetype": "text/x-python",
   "name": "python",
   "nbconvert_exporter": "python",
   "pygments_lexer": "ipython3",
   "version": "3.7.7"
  }
 },
 "nbformat": 4,
 "nbformat_minor": 1
}
