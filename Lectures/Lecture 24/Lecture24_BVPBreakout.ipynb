{
 "cells": [
  {
   "cell_type": "markdown",
   "metadata": {},
   "source": [
    "# Announcements\n",
    "- Problem Set 6 will be on finite difference methods, due Nov 2 (to be posted on D2L).\n",
    "- __Outlook__: Finite difference methods application to ODEs and PDEs. Then on to Monte Carlo Markov Chain methods.\n",
    "- Conference for Undergraduate Women in Physics: online event in 2021, [applications accepted until 10/25](https://www.aps.org/programs/women/cuwip/)\n",
    "- TIMESTEP on 10/21 at 5pm: Grad School Application Process [details + zoom registration](https://lavinia.as.arizona.edu/~timestep/) **This afternoon**\n",
    "\n",
    "*Note:  The presentation below largely follows part I in \"Finite Difference Methods for Ordinary and Partial Differential Equations\" by LeVeque (SIAM, 2007).*"
   ]
  },
  {
   "cell_type": "markdown",
   "metadata": {},
   "source": [
    "# Finite Difference Methods Breakout\n",
    "Lecture 23 introduced the _Finite Difference_ method and we used it to solve a boundary value problem with Dirichlet conditions as a linear system. In today's breakout, we will adapt this to Neumann boundary conditions. \n",
    "\n",
    "Recall that we incorporated Dirichlet conditions by  by sending the values we know to the $b$ vector:\n",
    "$$\\begin{aligned}\n",
    "    \\frac{U_a - 2 U_1 + U_2}{\\Delta x^2} = f(x_1) &\\Rightarrow& \\frac{- 2 U_1 + U_2}{\\Delta x^2} = f(x_1) - \\frac{U_a}{\\Delta x^2} \\\\\n",
    "    \\frac{U_4 - 2 U_5 + U_b}{\\Delta x^2} = f(x_1) &\\Rightarrow& \\frac{U_4 - 2 U_5}{\\Delta x^2} = f(x_5) - \\frac{U_b}{\\Delta x^2}\n",
    "\\end{aligned}$$\n",
    "so that final system looked like\n",
    "$$\\color{red}{\\text{Dirichlet:}}\\quad\\quad\n",
    "    \\frac{1}{\\Delta x^2} \\begin{bmatrix}\n",
    "    -2 &  1 &    &    &    \\\\\n",
    "     1 & -2 &  1 &    &    \\\\\n",
    "       &  1 & -2 &  1 &    \\\\\n",
    "       &    &  1 & -2 &  1 \\\\\n",
    "       &    &    &  1 & -2 \\\\\n",
    "    \\end{bmatrix} \\begin{bmatrix}\n",
    "        U_1 \\\\ U_2 \\\\ U_3 \\\\ U_4 \\\\ U_5\n",
    "    \\end{bmatrix} = \n",
    "    \\begin{bmatrix}\n",
    "        f(x_1) - \\frac{U_a}{\\Delta x^2} \\\\ f(x_2) \\\\ f(x_3) \\\\ f(x_4) \\\\ f(x_5) - \\frac{U_b}{\\Delta x^2} \\\\\n",
    "    \\end{bmatrix}.\n",
    "$$\n",
    "\n",
    "In order to handle Neumann boundary conditions, we need to modifythe linear system as we can't simply add the boundary conditions on the right hand side anymore.  Instead a **ghost cell** approach is often used.  These **ghost cells** are added unknowns that represent the boundary values that we actually know.  \n",
    "\n",
    "## Example Problem\n",
    "For example, if we have a BVP\n",
    "$$\n",
    "    u_{xx} = e^x, \\quad x \\in [-1, 1] \\quad \\text{with} \\quad u(-1) = 3, \\text{ and } u_x(1) = -5\n",
    "$$\n",
    "then we could keep the boundary values in the vector of unknowns so that now\n",
    "$$\n",
    "    U = \\begin{bmatrix} U_0 \\\\ U_1 \\\\ \\vdots \\\\ U_N \\\\ U_{N+1} \\end{bmatrix}\n",
    "$$\n",
    "where here $U_0$ and $U_{N+1}$ are actually the boundary points.  "
   ]
  },
  {
   "cell_type": "markdown",
   "metadata": {},
   "source": [
    "The matrix $A$ is then modified to have the appropriate relationships.  In this case the left boundary condition leads to\n",
    "$$\n",
    "    A = \\begin{bmatrix}\n",
    "  1 &    &    &    &    &    \\\\\n",
    "  \\frac{1}{\\Delta x^2} & \\frac{-2}{\\Delta x^2} &  \\frac{1}{\\Delta x^2} &    &    &    \\\\\n",
    "    &  \\frac{1}{\\Delta x^2} & \\frac{-2}{\\Delta x^2} &  \\frac{1}{\\Delta x^2} &    &    \\\\\n",
    "    & & \\ddots & \\ddots & \\ddots\n",
    "    \\end{bmatrix} \\quad \\text{and} \\quad b = \\begin{bmatrix}\n",
    "        u(a) \\\\ f(x_1) \\\\ f(x_2) \\\\ \\vdots\n",
    "    \\end{bmatrix}\n",
    "$$\n",
    "which multiplied out simply gives\n",
    "$$\n",
    "    U_0 = u(-1) = 3.\n",
    "$$"
   ]
  },
  {
   "cell_type": "markdown",
   "metadata": {},
   "source": [
    "<span style=\"color:blue\"> Derive $A$ and $b$ for the right (Neumann) boundary condition $u_x(b) = -5$ using the second order backward finite difference approximation for the first derivative $$u'(x_i) \\approx \\frac{3 u(x_i) - 4 u(x_{i-1}) + u(x_{i - 2})}{2.0 \\Delta x}\\,.$$</span>\n"
   ]
  },
  {
   "cell_type": "markdown",
   "metadata": {},
   "source": [
    "<span style=\"color:blue\"> **Solve today's BVP via the construction of a linear system of equations.**</span>\n",
    "\n",
    "<span style=\"color:blue\"> Eventually, you will want find the true solution for overplotting, but I recommend working on the numeric solution first as that's the interesting part.</span>"
   ]
  },
  {
   "cell_type": "markdown",
   "metadata": {},
   "source": [
    "\\begin{align*}\n",
    "    u(x) &= A x + B + e^x \\\\\n",
    "    u_x(1) &= A + e^1 = -5 \\Rightarrow A = -5 - e \\\\\n",
    "    u(-1) &= (5 + e) + B + e^{-1} = 3 \\Rightarrow B = 3 - 5 - e - e^{-1} = -(2 + e + e^{-1}) \\\\\n",
    "    ~\\\\\n",
    "    u(x) &= -(5 + e) x -(2 + e + e^{-1}) + e^{x}\n",
    "\\end{align*}"
   ]
  },
  {
   "cell_type": "markdown",
   "metadata": {},
   "source": [
    "_The code below is copied from Lecture 23. The missing parts need to be adapted to today's problem, but you may find looking back at Lecture 23 helpful._"
   ]
  },
  {
   "cell_type": "code",
   "execution_count": null,
   "metadata": {},
   "outputs": [],
   "source": [
    "import numpy\n",
    "import matplotlib.pyplot as plt\n",
    "# Problem setup\n",
    "a = -1.0\n",
    "b = 1.0\n",
    "u_a = 3.0\n",
    "u_x_b = -5.0\n",
    "f = lambda x: numpy.exp(x)\n",
    "#code up your analytic solution here\n",
    "u_true = lambda x:0 #this is a placeholder\n",
    "# Discretization\n",
    "N = 10\n",
    "x_bc = numpy.linspace(a, b, N + 2)\n",
    "x = x_bc[1:-1]\n",
    "delta_x = (b - a) / (N + 1)\n",
    "\n",
    "# Construct matrix A - without boundary conditions\n",
    "A = numpy.zeros((N + 2, N + 2))\n",
    "diagonal = numpy.ones(N + 2) / delta_x**2\n",
    "A += numpy.diag(diagonal * -2.0, 0)\n",
    "A += numpy.diag(diagonal[:-1], 1)\n",
    "A += numpy.diag(diagonal[:-1], -1)\n",
    "\n",
    "# Construct RHS - without boundary conditions\n",
    "b = f(x_bc)\n",
    "\n",
    "# Now, add boundary conditions to A\n",
    "#left boundary\n",
    "A[0, 0] = 1.0\n",
    "A[0, 1] = 0.0\n",
    "#right boundary\n",
    "\n",
    "# Now, add boundary conditions to b\n",
    "#left boundary\n",
    "\n",
    "#right boundary\n",
    "\n",
    "# Solve system\n",
    "U = numpy.empty(N + 2)\n",
    "U = numpy.linalg.solve(A, b)\n",
    "\n",
    "# Plot result\n",
    "fig = plt.figure()\n",
    "axes = fig.add_subplot(1, 1, 1)\n",
    "axes.plot(x_bc, U, 'o', label=\"Computed\")\n",
    "#axes.plot(x_bc, u_true(x_bc), 'k', label=\"True\")\n",
    "axes.set_title(\"Solution to $u_{xx} = e^x$\")\n",
    "axes.set_xlabel(\"x\")\n",
    "axes.set_ylabel(\"u(x)\")\n",
    "plt.show()"
   ]
  },
  {
   "cell_type": "code",
   "execution_count": null,
   "metadata": {},
   "outputs": [],
   "source": []
  }
 ],
 "metadata": {
  "kernelspec": {
   "display_name": "Python 3",
   "language": "python",
   "name": "python3"
  },
  "language_info": {
   "codemirror_mode": {
    "name": "ipython",
    "version": 3
   },
   "file_extension": ".py",
   "mimetype": "text/x-python",
   "name": "python",
   "nbconvert_exporter": "python",
   "pygments_lexer": "ipython3",
   "version": "3.7.7"
  }
 },
 "nbformat": 4,
 "nbformat_minor": 4
}
