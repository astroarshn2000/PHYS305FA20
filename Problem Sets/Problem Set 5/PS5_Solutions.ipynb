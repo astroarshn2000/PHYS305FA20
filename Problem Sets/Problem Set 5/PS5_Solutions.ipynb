{
 "cells": [
  {
   "cell_type": "markdown",
   "metadata": {},
   "source": [
    "## Problem Set 5 - PHYS 305, Fall 2020\n",
    "#### Due on Oct 20, 5 pm on D2L\n",
    "This problem set contains 3 problems. You can submit either a completed notebook, _or_ a compressed folder containing python code (to be run from the command line) and write ups."
   ]
  },
  {
   "cell_type": "markdown",
   "metadata": {},
   "source": [
    "### Problem 1: A Python Class for Matrices [15 points]"
   ]
  },
  {
   "cell_type": "code",
   "execution_count": 1,
   "metadata": {},
   "outputs": [
    {
     "name": "stdout",
     "output_type": "stream",
     "text": [
      "3A:\n",
      "[  3   6   9 ]\n",
      "[ 12  15   0 ]\n",
      "[ 18   0   0 ]\n",
      "AB:\n",
      "[  1   2 ]\n",
      "[  4   5 ]\n",
      "[  6   0 ]\n",
      "BA:\n",
      "Cannot multiply a 3x2 matrix by a 3x3 matrix.\n"
     ]
    }
   ],
   "source": [
    "class Matrix:\n",
    "    def set_from_list(self, listoflists):\n",
    "        self.elements = listoflists;\n",
    "        return self\n",
    "    def print(self):\n",
    "        for row in self.elements:\n",
    "            print(\"[\", end=\"\")\n",
    "            for element in row:\n",
    "                print(\"%3s\" % element, end=\" \")\n",
    "            print(\"]\")\n",
    "    def multiply_m(self, other):\n",
    "        product = Matrix()\n",
    "        \n",
    "        n = len(self.elements)\n",
    "        m = len(self.elements[0])\n",
    "        otherN = len(other.elements)\n",
    "        otherM = len(other.elements[0])\n",
    "        \n",
    "        if (m != otherN):\n",
    "            raise ValueError(\"Cannot multiply a %dx%d matrix by a %dx%d matrix.\" % (n, m, otherN, otherM))\n",
    "        \n",
    "        elements = []\n",
    "        for i in range(n):\n",
    "            elements.append([])\n",
    "            for j in range(otherM):\n",
    "                elements[i].append(0)\n",
    "                for k in range(m):\n",
    "                    elements[i][j] += self.elements[i][k] * other.elements[k][j]\n",
    "        product.set_from_list(elements)\n",
    "        \n",
    "        return product\n",
    "    def multiply_s(self, s):\n",
    "        product = Matrix()\n",
    "        \n",
    "        elements = [[3 * elem for elem in row] for row in self.elements]\n",
    "        product.set_from_list(elements)\n",
    "        \n",
    "        return product\n",
    "    \n",
    "A = Matrix()\n",
    "A.set_from_list([[1, 2, 3], [4, 5, 0], [6, 0, 0]])\n",
    "B = Matrix()\n",
    "B.set_from_list([[1, 0], [0, 1], [0, 0]])\n",
    "\n",
    "print(\"3A:\")\n",
    "A.multiply_s(3).print()\n",
    "print(\"AB:\")\n",
    "A.multiply_m(B).print()\n",
    "print(\"BA:\")\n",
    "try:\n",
    "    B.multiply_m(A).print()\n",
    "except ValueError as ex:\n",
    "    print(ex)"
   ]
  },
  {
   "cell_type": "markdown",
   "metadata": {},
   "source": [
    "### Problem 2: Project Operator Practice [5 points]\n",
    "\n",
    "Let $P$ be a projection operator. Show that complement $I - P$ is also a projection operator.\n",
    "\n",
    "_You do not need to write code for this problem!_\n",
    "## Solution\n",
    "We can show that this a projector by examining a repeated application of $(I-P)$:\n",
    "$$\\begin{aligned}\n",
    "    (I - P)^2 &= I - IP - IP + P^2 \\\\\n",
    "    &= I - 2 P + P^2 \\\\\n",
    "    &= I - 2P + P \\\\\n",
    "    &= I - P.\n",
    "\\end{aligned}$$"
   ]
  },
  {
   "cell_type": "markdown",
   "metadata": {},
   "source": [
    "### Problem 3: QR Decomposition [10 points]\n",
    "\n",
    "Implement the __modified Gram-Schmidt__ algorithm from Lecture 20, and compare $Q*R - A$ for your implementation and the routine `classic_GS` (demonstrated in Lecture 20) for the matrix\n",
    "$$ A = \\begin{bmatrix} 1 & 1 & 1\\\\ \n",
    "                       1 & 1 & 0\\\\ \n",
    "                       1 & 0 & 0 \n",
    "        \\end{bmatrix}\\,.\n",
    "$$\n",
    "\n"
   ]
  },
  {
   "cell_type": "code",
   "execution_count": 4,
   "metadata": {},
   "outputs": [
    {
     "name": "stdout",
     "output_type": "stream",
     "text": [
      "Classic = \n",
      "[[ 0.00000000e+00  0.00000000e+00 -1.11022302e-16]\n",
      " [ 0.00000000e+00  0.00000000e+00 -2.23711432e-17]\n",
      " [ 0.00000000e+00  9.17267705e-19  1.52238409e-17]]\n",
      "Modified = \n",
      "[[ 0.00000000e+00  0.00000000e+00 -1.11022302e-16]\n",
      " [ 0.00000000e+00  0.00000000e+00  1.01465364e-17]\n",
      " [ 0.00000000e+00  9.17267705e-19  4.58633852e-19]]\n"
     ]
    }
   ],
   "source": [
    "# Classical Gram-Schmidt Iteration from Lecture 20\n",
    "import numpy\n",
    "def classic_GS(A):\n",
    "    m = A.shape[0]\n",
    "    n = A.shape[1]\n",
    "    Q = numpy.empty((m, n))\n",
    "    R = numpy.zeros((n, n))\n",
    "    for j in range(n):\n",
    "        v = A[:, j]\n",
    "        for i in range(j):\n",
    "            R[i, j] = numpy.dot(Q[:, i].conjugate(), A[:, j])\n",
    "            v = v - R[i, j] * Q[:, i]\n",
    "        R[j, j] = numpy.linalg.norm(v, ord=2)\n",
    "        Q[:, j] = v / R[j, j]\n",
    "    return Q, R\n",
    "\n",
    "\n",
    "def mod_GS(A):\n",
    "    m = A.shape[0]\n",
    "    n = A.shape[1]\n",
    "    Q = numpy.empty((m, n))\n",
    "    R = numpy.zeros((n, n))\n",
    "    v = A.copy()\n",
    "    for i in range(n):\n",
    "        R[i, i] = numpy.linalg.norm(v[:, i], ord=2)\n",
    "        Q[:, i] = v[:, i] / R[i, i]\n",
    "        for j in range(i + 1, n):\n",
    "            R[i, j] = numpy.dot(Q[:, i].conjugate(), v[:, j])\n",
    "            v[:, j] -= R[i, j] * Q[:, i]\n",
    "    return Q, R\n",
    "A = numpy.array([[1.,1.,1.],[1.,1.,0.], [1.,0.,0.]])\n",
    "Q, R = classic_GS(A)\n",
    "print(\"Classic = \")\n",
    "print(numpy.dot(Q, R) - A)\n",
    "Q, R = mod_GS(A)\n",
    "print(\"Modified = \")\n",
    "print(numpy.dot(Q, R) - A)"
   ]
  },
  {
   "cell_type": "code",
   "execution_count": null,
   "metadata": {},
   "outputs": [],
   "source": []
  }
 ],
 "metadata": {
  "kernelspec": {
   "display_name": "Python 3",
   "language": "python",
   "name": "python3"
  },
  "language_info": {
   "codemirror_mode": {
    "name": "ipython",
    "version": 3
   },
   "file_extension": ".py",
   "mimetype": "text/x-python",
   "name": "python",
   "nbconvert_exporter": "python",
   "pygments_lexer": "ipython3",
   "version": "3.7.7"
  }
 },
 "nbformat": 4,
 "nbformat_minor": 4
}
