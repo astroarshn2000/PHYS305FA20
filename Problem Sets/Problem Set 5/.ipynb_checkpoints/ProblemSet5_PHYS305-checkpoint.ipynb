{
 "cells": [
  {
   "cell_type": "markdown",
   "metadata": {},
   "source": [
    "## Problem Set 5 - PHYS 305, Fall 2020\n",
    "#### Due on Oct 20, 5 pm on D2L\n",
    "This problem set contains 3 problems. You can submit either a completed notebook, _or_ a compressed folder containing python code (to be run from the command line) and write ups."
   ]
  },
  {
   "cell_type": "markdown",
   "metadata": {},
   "source": []
  },
  {
   "cell_type": "markdown",
   "metadata": {},
   "source": [
    "### Problem 1: A Python Class for Matrices [15 points]\n",
    "\n",
    "_This problem is intended as additional practice with python classes (c.f. Lecture 18), and the numerics should not be challenging._\n",
    "\n",
    "Develop a class `Matrix` for $\\mathbb R^{(n\\times m)}$ matrix operations with the following class methods:\n",
    "- `set_from_list(self, listoflists)`: set the matrix elements to input data in `listoflists`\n",
    "- `print(self)`: print all matrix elements\n",
    "- `multiply_m(self,other)`: return the result of the matrix multiplication of `self` with another `Matrix` instance `other`\n",
    "- `multiply_s(self,s)`: return the result of the multiplication of `self` with a scalar `s`\n",
    "\n",
    "Create the `Matrix` instances\n",
    "$$ A = \\begin{bmatrix} 1 & 2 & 3\\\\ \n",
    "                       4 & 5 & 0\\\\ \n",
    "                       6 & 0 & 0 \n",
    "        \\end{bmatrix}\\,,\\quad\n",
    "   B = \\begin{bmatrix} 1 & 0 \\\\ \n",
    "                       0 & 1 \\\\ \n",
    "                       0 & 0 \n",
    "               \\end{bmatrix}\\,, \n",
    "$$\n",
    "and print your results for \n",
    "- $3A$\n",
    "- $AB$\n",
    "- $BA$ \n",
    "\n",
    "_calculated using the `Matrix` class methods_.\n"
   ]
  },
  {
   "cell_type": "markdown",
   "metadata": {},
   "source": [
    "#### ANSWER:"
   ]
  },
  {
   "cell_type": "code",
   "execution_count": 48,
   "metadata": {},
   "outputs": [],
   "source": [
    "class Matrix():\n",
    "    def __init__(self,ndim,mdim):\n",
    "        self.rows = [[0]*mdim for foo in range(ndim)]\n",
    "        self.ndim = ndim # no. of rows\n",
    "        self.mdim = mdim # no. of columns\n",
    "    def set_from_list(self,listoflists):\n",
    "        index = 0 \n",
    "        for i in range(len(self.rows)):\n",
    "            for j in range(len(self.rows[i])):\n",
    "                self.rows[i][j] = listoflists[index]\n",
    "                index += 1\n",
    "    def print_m(self):\n",
    "        print(self.rows)\n",
    "    def multiply_m(self,other):\n",
    "        if self.mdim != other.ndim:\n",
    "            return(\"Matrix Multiplication cannot be initiated! (Dimensions do not match)\")\n",
    "        else:\n",
    "            new = [[0]*other.mdim for foo in range(self.ndim)]\n",
    "            for i in range(other.ndim):\n",
    "                for j in range(other.mdim):\n",
    "                    for k in range(self.mdim):\n",
    "                        new[i][j] += self.rows[i][k]*other.rows[i][j]\n",
    "                        return new\n",
    "    def multiply_s(self,s):\n",
    "        for i in range(self.ndim):\n",
    "            for j in range(self.mdim):\n",
    "                self.rows[i][j] = s*self.rows[i][j]\n",
    "        return self.rows"
   ]
  },
  {
   "cell_type": "code",
   "execution_count": 49,
   "metadata": {},
   "outputs": [
    {
     "name": "stdout",
     "output_type": "stream",
     "text": [
      "3A = [[3, 6, 9], [12, 15, 0], [18, 0, 0]]\n",
      "AB = [[3, 0], [0, 0], [0, 0]]\n",
      "BA = Matrix Multiplication cannot be initiated! (Dimensions do not match)\n"
     ]
    }
   ],
   "source": [
    "# define listoflists\n",
    "LOL_A = [1,2,3,4,5,0,6,0,0]\n",
    "LOL_B = [1,0,0,1,0,0]\n",
    "\n",
    "# create matrix instances\n",
    "A = Matrix(3,3)\n",
    "B = Matrix(3,2)\n",
    "A.set_from_list(LOL_A)\n",
    "B.set_from_list(LOL_B)\n",
    "\n",
    "# calculate required\n",
    "## 3A\n",
    "threeA = A.multiply_s(3)\n",
    "print(f\"3A = {threeA}\")\n",
    "## AB\n",
    "AB = A.multiply_m(B)\n",
    "print(f\"AB = {AB}\")\n",
    "## BA\n",
    "BA = B.multiply_m(A)\n",
    "print(f\"BA = {BA}\")"
   ]
  },
  {
   "cell_type": "markdown",
   "metadata": {},
   "source": [
    "### Problem 2: Project Operator Practice [5 points]\n",
    "\n",
    "Let $P$ be a projection operator. Show that complement $I - P$ is also a projection operator.\n",
    "\n",
    "_You do not need to write code for this problem!_"
   ]
  },
  {
   "cell_type": "markdown",
   "metadata": {},
   "source": [
    "#### ANSWER:\n",
    "Let $M$ be a vector space and $\\vec{x} \\in M$. Assume, $N$ is a subspace of $M$. Let $P$ be the projection onto $N$ and $P_\\perp$ be the projection on the orthogonal complement $M_\\perp$ of $M$. <br>\n",
    "Then the vectors can be decomposed as follows: <br>\n",
    "$\\vec{x} = \\vec{y} + \\vec{z}$ with $\\vec{y}= P(\\vec{x})$ and $\\vec{z}= P_\\perp(\\vec{x})$ <br>\n",
    "From the above relation, <br>\n",
    "$\\vec{x} = P(\\vec{x}) + P_\\perp(\\vec{x})$ <br>\n",
    "$P_\\perp(\\vec{x}) = \\vec{x} - P(\\vec{x})$ <br>\n",
    "$P_\\perp(\\vec{x}) = (I - P)\\vec{x}$ <br>\n",
    "Since it holds for any vector $\\vec{x} \\in M$ it must then be the case that $P_\\perp = I - P$"
   ]
  },
  {
   "cell_type": "markdown",
   "metadata": {},
   "source": [
    "### Problem 3: QR Decomposition [10 points]\n",
    "\n",
    "Implement the __modified Gram-Schmidt__ algorithm from Lecture 20, and compare $Q*R - A$ for your implementation and the routine `classic_GS` (demonstrated in Lecture 20) for the matrix\n",
    "$$ A = \\begin{bmatrix} 1 & 1 & 1\\\\ \n",
    "                       1 & 1 & 0\\\\ \n",
    "                       1 & 0 & 0 \n",
    "        \\end{bmatrix}\\,.\n",
    "$$\n",
    "\n"
   ]
  },
  {
   "cell_type": "markdown",
   "metadata": {},
   "source": [
    "#### ANSWER:\n",
    "The Modified Gram-Schmidt Algorithm leads to the following set of calculations: \n",
    "$$\\begin{aligned}\n",
    "    1.\\quad \\vec{v}^{(1)}_i &= \\vec{a}_i  \\\\\n",
    "    2.\\quad \\vec{v}^{(2)}_i &= \\hat{\\!P}_{\\vec{q}_1} \\vec{v}_i^{(1)} = \\vec{v}^{(1)}_i - \\vec{q}_1 q_1^\\ast \\vec{v}^{(1)}_i \\\\\n",
    "    3.\\quad \\vec{v}^{(3)}_i &= \\hat{\\!P}_{\\vec{q}_2} \\vec{v}_i^{(2)} = \\vec{v}^{(2)}_i - \\vec{q}_2 \\vec{q}_2^\\ast \\vec{v}^{(2)}_i \\\\\n",
    "    & \\text{  } \\vdots & &\\\\\n",
    "    i.\\quad \\vec{v}^{(i)}_i &= \\hat{\\!P}_{\\vec{q}_{i-1}} \\vec{v}_i^{(i-1)} =  \\vec{v}_i^{(i-1)} - \\vec{q}_{i-1} \\vec{q}_{i-1}^\\ast \\vec{v}^{(i-1)}_i\n",
    "\\end{aligned}$$"
   ]
  },
  {
   "cell_type": "code",
   "execution_count": 9,
   "metadata": {},
   "outputs": [
    {
     "name": "stdout",
     "output_type": "stream",
     "text": [
      "Q*R - A from the Classic Gram-Schmidt Algorithm: \n",
      " [[ 0.00000000e+00  0.00000000e+00 -1.11022302e-16]\n",
      " [ 0.00000000e+00  0.00000000e+00 -2.23711432e-17]\n",
      " [ 0.00000000e+00  0.00000000e+00 -5.33628851e-33]]\n",
      "Q*R - A from the Modified Gram-Schmidt Algorithm: \n",
      " [[ 0.00000000e+00  0.00000000e+00 -1.11022302e-16]\n",
      " [ 0.00000000e+00  0.00000000e+00  3.31400081e-17]\n",
      " [ 0.00000000e+00  0.00000000e+00  2.25298366e-33]]\n"
     ]
    }
   ],
   "source": [
    "# import numpy\n",
    "import numpy as np\n",
    "\n",
    "# Classic Gram-Schmidt Algorithm from Class\n",
    "def classic_GS(A):\n",
    "    m = A.shape[0]\n",
    "    n = A.shape[1]\n",
    "    Q = np.empty((m, n))\n",
    "    R = np.zeros((n, n))\n",
    "    for j in range(n):\n",
    "        v = A[:, j]\n",
    "        for i in range(j):\n",
    "            R[i, j] = np.dot(Q[:, i].conjugate(), A[:, j])\n",
    "            v = v - R[i, j] * Q[:, i]\n",
    "        R[j, j] = np.linalg.norm(v, ord=2)\n",
    "        Q[:, j] = v / R[j, j]\n",
    "    return Q, R\n",
    "\n",
    "# Modified Gram-Schmidt Algorithm \n",
    "def modified_GS(A):\n",
    "    m = A.shape[0]\n",
    "    n = A.shape[1]\n",
    "    Q = np.empty((m, n))\n",
    "    R = np.zeros((n, n))\n",
    "    for j in range(n):\n",
    "        v = A[:, j]\n",
    "        for i in range(j):\n",
    "            R[i, j] = np.vdot(Q[:,i], v)    \n",
    "            v = v - R[i, j] * Q[:, i]\n",
    "        R[j, j] = np.linalg.norm(v, ord=2)\n",
    "        Q[:, j] = v / R[j, j]\n",
    "    return Q, R\n",
    "\n",
    "# do the calculations\n",
    "A = np.array([[1, 1, 1], [1, 1, 0], [1, 0, 0]], dtype=float)\n",
    "q, r = classic_GS(A)\n",
    "Q, R = modified_GS(A)\n",
    "x = np.dot(q, r) - A\n",
    "y = np.dot(Q, R) - A\n",
    "print(f\"Q*R - A from the Classic Gram-Schmidt Algorithm: \\n {x}\")\n",
    "print(f\"Q*R - A from the Modified Gram-Schmidt Algorithm: \\n {y}\")"
   ]
  }
 ],
 "metadata": {
  "kernelspec": {
   "display_name": "astro",
   "language": "python",
   "name": "astro"
  },
  "language_info": {
   "codemirror_mode": {
    "name": "ipython",
    "version": 3
   },
   "file_extension": ".py",
   "mimetype": "text/x-python",
   "name": "python",
   "nbconvert_exporter": "python",
   "pygments_lexer": "ipython3",
   "version": "3.6.10"
  }
 },
 "nbformat": 4,
 "nbformat_minor": 4
}
