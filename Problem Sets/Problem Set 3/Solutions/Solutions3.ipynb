{
 "cells": [
  {
   "cell_type": "markdown",
   "metadata": {},
   "source": [
    "## PHYS 305 - Solutions to Problem Set 3\n",
    "### Fall 2020, Prof. Elisabeth Krause"
   ]
  },
  {
   "cell_type": "markdown",
   "metadata": {},
   "source": [
    "## Problem 1 - Romberg Integration\n",
    " Write a Python function `romberg(func, a, b, eps, *P)` which computes the integral of the\n",
    "  given function between the given limits, using Romberg integration to obtain a solution to within\n",
    "  an error of approximately \\texttt{eps}. Use this function to solve the following problem.\n",
    "\n",
    "  The flux leaving a square centimeter of a blackbody radiator at temperature $T$ is\n",
    "  $F = \\sigma T^4$ (where $\\sigma$ is the Stephan-Boltzmann constant). This is the result of\n",
    "  integrating the flux from a Plank spectrum over all frequencies\n",
    "  \\begin{equation*}\n",
    "    \\sigma T^4 = \\pi \\int_0^\\infty B_\\nu(T)\\ d\\nu\n",
    "  \\end{equation*}\n",
    "  where the Planck function is\n",
    "  \\begin{equation*}\n",
    "    B_\\nu(T) = \\frac{2h\\nu^3}{c^2}\\left\\{e^{h\\nu/kt}-1\\right\\}^{-1}\n",
    "  \\end{equation*}\n",
    "  Start by reducing the integral to\n",
    "  \\begin{equation*}\n",
    "    \\int_0^\\infty \\frac{x^3\\ dx}{e^x - 1}\n",
    "  \\end{equation*}\n",
    "  by a change of variable. Use your Romberg integration function to obtain the value of this\n",
    "  integral and evaluate $\\sigma$ in the units of your choice. Check your answer against the correct\n",
    "  value.\n",
    "\n",
    "_Note that this and the next problem present integrals with several mathematical difficulties.  The\n",
    "  integral above is singular at the origin and both this and the next problem are integrals with an\n",
    "  infinite range._\n"
   ]
  },
  {
   "cell_type": "markdown",
   "metadata": {},
   "source": [
    "### Answer\n",
    "In this problem, not only did you need to implement Romberg integration, you also needed to figure out how to deal with the singularity at the origin and the infinite limits of integration.\n",
    "\n",
    "To deal with the singularity, we can use l'Hopital's rule to show that the limit of the integrand at x=0 is zero: setting $f(x) = x^3$ and $g(x) = e^x-1$\n",
    "$$ \\lim_{x\\rightarrow 0} \\frac{f'(x)}{g'(x)} = \\lim_{x\\rightarrow 0} \\frac{3x^2}{e^x} = 0$$\n",
    "converges, hence $$\\lim_{x\\rightarrow 0} \\frac{f(x)}{g(x)}=0\\,,$$\n",
    "hence I made the function `planck(x)` return 0 if $x=0$.\n",
    "\n",
    "More interesting are the limits of integration. Two sources of error affect the result of your\n",
    "calculation. The first is the truncation error left after Richardson extrapolation. The second is the value of the remaining integral from some finite $x_{max}$ to $\\infty$.  Because the integrand decreases relatively rapidly with $x$, we clearly don't need to go to too large an upper limit of integration before the remaining integral becomes negligibly small. To show this, I not only used Romberg integration to evaluate the integral as requested, I also used it to evaluate the error from not completing the integration to $\\infty$.  Since this is only one of two errors, as long as this \"remainder integral\" is rather smaller than the estimate of the error from Richardson extrapolation, we have an acceptable value for $x_{max}$.\n",
    "\n",
    "Trying to push things to the breaking point, I asked for 13 digits of relative accuracy. I found that $x_{max}=70$ gave the best answer, but this is clearly fortuitous since the remaining integral at this point is in the 24-th decimal place! Asking for 13 digits of accuracy with only 14 digits of precision in each arithmetic step is clearly asking too much. "
   ]
  },
  {
   "cell_type": "code",
   "execution_count": 1,
   "metadata": {},
   "outputs": [],
   "source": [
    "\"\"\"\n",
    "Module to implement Romberg integration\n",
    "\n",
    "\"\"\"\n",
    "import numpy as np\n",
    "\n",
    "def nextTrapezoidal(func, xmin, xmax, k, *P):\n",
    "    \"\"\"\n",
    "    function to add intervening points to a previous trapezoidal rule result\n",
    "    \"\"\"\n",
    "    n = 2**k\n",
    "    h = (xmax-xmin)/n\n",
    "    sum = 0\n",
    "    for i in range(1, int(n/2)+1):\n",
    "        sum += func(xmin + (2*i-1)*h, *P)\n",
    "    return h*sum\n",
    "\n",
    "def romberg(func, xmin, xmax, epsilon, *P):\n",
    "    \"\"\"\n",
    "    Trapezoidal Rule with Richardson Extrapolation: Romberg's method\n",
    "    \"\"\"\n",
    "    LMAX = 20\n",
    "    I = np.zeros((LMAX,LMAX))\n",
    "\n",
    "    # 1-interval trapezoidal approximation\n",
    "    I[0,0] = 0.5*(xmax-xmin)*(func(xmin, *P) + func(xmax, *P))\n",
    "\n",
    "    for l in range(1,LMAX):\n",
    "        # 2**l interval trapezoidal rule approximation\n",
    "        I[l,0] = 0.5*I[l-1,0] + nextTrapezoidal(func, xmin, xmax, l, *P)\n",
    "\n",
    "        # do as many Richardson extrapolations as we have data for\n",
    "        for k in range(1,l+1):\n",
    "            q = 4**k\n",
    "            I[l,k] = (q*I[l,k-1] - I[l-1,k-1])/(q-1)\n",
    "\n",
    "        if abs(I[l,l] - I[l,l-1]) < epsilon * abs(I[l,l-1]): return I[l,l]\n",
    "\n",
    "    print(\"rombergIntegrate: failure to converge after\", LMAX, \"iterations; returning None\")\n",
    "    # returning None will allow one to test for failure\n",
    "    return None"
   ]
  },
  {
   "cell_type": "code",
   "execution_count": 3,
   "metadata": {},
   "outputs": [
    {
     "name": "stdout",
     "output_type": "stream",
     "text": [
      "Integral = 6.49393940226688\n",
      "   exact = 6.49393940226683   rel. err.=7.249e-15\n",
      "rest of integral~ 1.423711912122581e-25\n",
      "\n",
      "SB constant:  5.670374419184472e-08\n",
      "scipy gives:  5.670374419e-08\n"
     ]
    }
   ],
   "source": [
    "#Integrate Planck function to obtain Stefan-Boltzmann constant\n",
    "import numpy as np\n",
    "from scipy.constants import Stefan_Boltzmann, Boltzmann, speed_of_light, Planck\n",
    "\n",
    "# Planck function integrand\n",
    "def planck(x):\n",
    "    if x==0:           # deal with singularity at origin\n",
    "        return 0\n",
    "    else:\n",
    "        return x**3/(np.exp(x)-1)\n",
    "\n",
    "xmax = 70     # upper limit to integration\n",
    "acc = 1e-13   # desired relative accuracy\n",
    "\n",
    "ans = romberg(planck, 0, xmax, acc)\n",
    "exact = np.pi**4/15.0\n",
    "\n",
    "# showing off here -- how to set number of significant figures at runtime\n",
    "digits = int(-np.log10(acc))+1\n",
    "print(\"Integral = {0:.{width}f}\".format(ans,width=digits) )\n",
    "print(\"   exact = {0:.{width}f}   rel. err.={1:.3e}\".format(exact,(ans-exact)/exact,width=digits) )\n",
    "\n",
    "# estimate the error in the integral above xmax\n",
    "rest = romberg(planck, xmax, 100, acc)\n",
    "print(\"rest of integral~\",rest)\n",
    "\n",
    "print()\n",
    "ans = ans * 2*np.pi*Boltzmann**4/(Planck**3*speed_of_light**2)\n",
    "print(\"SB constant: \", ans)\n",
    "print(\"scipy gives: \", Stefan_Boltzmann)"
   ]
  },
  {
   "cell_type": "markdown",
   "metadata": {},
   "source": [
    "## Problem 2 - Gaussian Integral\n",
    "It is reported that Lord Kelvin (of thermodynamic fame) wrote the following equality on the\n",
    "  board\n",
    "  \\begin{equation*}\n",
    "    \\int_{-\\infty}^\\infty e^{-x^2}\\ dx = \\pi^{1/2}\n",
    "  \\end{equation*}\n",
    "  and then quipped \"a mathematician is one to whom _that_ is as obvious as that twice two makes\n",
    "  four is to you.\"\n",
    "\n",
    "  Use the same Romberg integrator you implemented for the previous problem to\n",
    "  evaluate this integral. Once again, evaluate your answer for accuracy.\n",
    "  How does the result change with changes in the limits of integration?\n",
    "  Is there a symmetry in the integral which you can exploit?\n"
   ]
  },
  {
   "cell_type": "markdown",
   "metadata": {},
   "source": [
    "### Answer\n",
    "The symmetry in the integral is in the integrand -- it is a symmetric function of $x$, and\n",
    "    hence we can take twice the integral from $0$ to $\\infty$. Here again, I estimated the remainder\n",
    "    integral to show that it is much less than the truncation (and probably some roundoff) error. "
   ]
  },
  {
   "cell_type": "code",
   "execution_count": 5,
   "metadata": {},
   "outputs": [
    {
     "name": "stdout",
     "output_type": "stream",
     "text": [
      "integral =1.772453850905537\n",
      "   exact =1.772453850905516      rel err =1.190e-14\n",
      "rest of integral~ 3.814274020667338e-17\n"
     ]
    }
   ],
   "source": [
    "def func(x):\n",
    "    return np.exp(-x**2)\n",
    "\n",
    "# upper limit of integration\n",
    "xmax = 6\n",
    "# desired relative accuracy\n",
    "acc = 1e-13\n",
    "\n",
    "ans = 2 * romberg(func, 0, xmax, acc)\n",
    "exact = np.sqrt(np.pi)\n",
    "print(\"integral ={0:.15f}\".format(ans) )\n",
    "relerr = abs((ans-exact)/exact)\n",
    "print(\"   exact ={:.15f}      rel err ={:.3e}\".format(exact, relerr) )\n",
    "\n",
    "# this should be well less than the (absolute) error\n",
    "#   if xmax is large enough\n",
    "rest = 2 * romberg(func, xmax, 100, acc)\n",
    "print(\"rest of integral~\", rest)\n"
   ]
  },
  {
   "cell_type": "markdown",
   "metadata": {},
   "source": [
    "### Problem 3 - Gaussian integration\n",
    "- Derive the formula for $n=4$ Gaussian quadrature using the\n",
    "    recipe based on the Legendre polynomials. Up to what degree\n",
    "    polynomial is the $n=4$ Gaussian quadrature exact for? Use the\n",
    "    polynomial $p(x)=36 x^7 + x^6 -58 x^5 -3600 x^4 +5 x^3 -x^2 +10^3\n",
    "    x+1$ to test your expression. What is $\\int_{-1}^1p(x)dx$ equal to\n",
    "    and does it agree with your $n=4$ Gaussian quadrature expression?\n",
    "\n",
    "- Use the $n=2,3,\\,\\mathrm{and}\\,4$ Gaussian quadrature methods to compute the\n",
    "    integral $\\mathbf{I=\\int_{0}^{\\pi}x\\cos(x)dx}$. The exact value of\n",
    "    the integral is $\\mathbf{I=-2}$. What is the relative error of the\n",
    "    $\\mathbf{n}=4$ Gaussian quadrature? How does it compare to the\n",
    "    relative error of the $\\mathbf{n}=2$ and $\\mathbf{n}=3$ Gaussian\n",
    "    quadrature methods? Does the error converge to 0 as $n$ increases? "
   ]
  },
  {
   "cell_type": "markdown",
   "metadata": {},
   "source": [
    "### Answer - Part 1\n",
    "\n",
    " The roots of the degreee 4 Legendre polynomial $P_4(x)$ are the solutions of the equation $x^4-6x^2/7 +3/35=0$, which can easily be solved by setting $x^2=y$ and solving for the two roots of the equation $y^2-6y/7 +3/35=0$. The 4 roots of $P_4(x)$ are:\n",
    " \n",
    " $x_1 = -\\sqrt{\\frac{3}{7}-\\frac{2}{7}\\sqrt{\\frac{6}{5}}}$, $x_2 = -\\sqrt{\\frac{3}{7}+\\frac{2}{7}\\sqrt{\\frac{6}{5}}}$, $x_3 = \\sqrt{\\frac{3}{7}-\\frac{2}{7}\\sqrt{\\frac{6}{5}}}$, $x_4 = \\sqrt{\\frac{3}{7}+\\frac{2}{7}\\sqrt{\\frac{6}{5}}}$\n",
    "\n",
    "  The constants $c_i = \\int_{-1}^{1} \\prod_{j=1,j\\neq i}^n \\frac{x-x_j}{x_i-x_j} dx$ are\n",
    "  \n",
    " \n",
    "  $c_1=\\frac{1}{36}(18+\\sqrt{30})$,   $c_2=\\frac{1}{2}(1-\\frac{1}{3}\\sqrt{\\frac{5}{6}})$\n",
    "  $c_3=\\frac{1}{36}(18+\\sqrt{30})$,   $c_4=\\frac{1}{2}(1-\\frac{1}{3}\\sqrt{\\frac{5}{6}})$\n",
    "\n",
    "  Thus, the $n=4$ Gaussian quadrature is given by\n",
    "$$\n",
    "    \\begin{split}\n",
    "      \\int_{-1}^{1} f(x)dx = & \\frac{1}{36}(18+\\sqrt{30})f\\bigg(-\\sqrt{\\frac{3}{7}-\\frac{2}{7}\\sqrt{\\frac{6}{5}}}\\bigg)+\\frac{1}{2}(1-\\frac{1}{3}\\sqrt{\\frac{5}{6}})f\\bigg(-\\sqrt{\\frac{3}{7}+\\frac{2}{7}\\sqrt{\\frac{6}{5}}}\\bigg) \\\\\n",
    "      & + \\frac{1}{36}(18+\\sqrt{30})f\\bigg(\\sqrt{\\frac{3}{7}-\\frac{2}{7}\\sqrt{\\frac{6}{5}}}\\bigg) + \\frac{1}{2}(1-\\frac{1}{3}\\sqrt{\\frac{5}{6}})f\\bigg(\\sqrt{\\frac{3}{7}+\\frac{2}{7}\\sqrt{\\frac{6}{5}}}\\bigg)\n",
    "    \\end{split}\n",
    "    $$\n",
    "  and is exact for any polynomial $f(x)$ of degree 7 or less.\n",
    "\n",
    "  The integral $\\int_{-1}^1 p(x) dx = -\\frac{30206}{21}$, which agrees exactly with the $n=4$ Gaussian quadrature.\n",
    "  \n",
    "_Note that you need to evaluate the Gaussian quadrature expressions symbolicaly/by hand to obtainthis exact agreement. The numerical evaluation is affected by round-off errors:_\n"
   ]
  },
  {
   "cell_type": "code",
   "execution_count": 13,
   "metadata": {},
   "outputs": [],
   "source": [
    "def transform_variable(t, a,b):\n",
    "    return ((b-a)*t+a+b)/2\n",
    "def GaussianQ_n4_any_interval(f,a,b,*P):\n",
    "    n = 4\n",
    "    #define nodes on [-1,1] interval(derived above)\n",
    "    t1 = -np.sqrt(3/7-2/7*np.sqrt(6/5))\n",
    "    t2 = -np.sqrt(3/7+2/7*np.sqrt(6/5))\n",
    "    t = np.array([t1,t2,-t1,-t2])\n",
    "    #define coefficients (derived above)\n",
    "    c1 = 1/36*(18+np.sqrt(30))\n",
    "    c2 = 1/2*(1-1/3*np.sqrt(5/6))\n",
    "    c = np.array([c1,c2,c1,c2])\n",
    "    I = 0\n",
    "    #now sum up the integral based on the n=4 Gaussian Quadrature formula\n",
    "    for j in range(n):\n",
    "        I += (b-a)/2.*c[j]*f(transform_variable(t[j],a,b),*P)\n",
    "    return I"
   ]
  },
  {
   "cell_type": "code",
   "execution_count": 38,
   "metadata": {},
   "outputs": [
    {
     "name": "stdout",
     "output_type": "stream",
     "text": [
      "exact result: -1.438381e+03, n=4 Quadrature: -1.438381e+03, relative error = -4.742284e-16\n",
      "\n"
     ]
    }
   ],
   "source": [
    "# define the example function p(x)\n",
    "# for simplicity, we're not using P to pass parameters this time\n",
    "def p(x,*P):\n",
    "    return 36*x**7 + x**6 -58*x**5 -3600*x**4 +5*x**3 -x**2 +1000*x+1\n",
    "\n",
    "P = ()\n",
    "exact_result = -30206/21\n",
    "GQ_4_result = GaussianQ_n4_any_interval(p,-1,1,*P)\n",
    "print(\"exact result: %e, n=4 Quadrature: %e, relative error = %e\\n\"%(exact_result,GQ_4_result,np.abs((exact_result-GQ_4_result))/exact_result))"
   ]
  },
  {
   "cell_type": "markdown",
   "metadata": {},
   "source": [
    "### Part 2\n",
    "The integral $I=\\int_{0}^{\\pi}x\\cos(x)dx=\\frac{\\pi}{2}\\int_{-1}^1f\\bigg(\\frac{\\pi}{2}(t+1)\\bigg)dt$. Using the $n=4$ Gaussian quadrature\n",
    "  we find $\\bar I=-2.0001242$, while the exact value is $I=-2$. Hence the relative error is $|(\\tilde I-I)/I|=6.2\\times 10^{-5}$!!!\n",
    "  Recall the relative error with the $n=3$ Gaussian quadrature was $4.06\\times 10^{-3}$. The $n=2$ Gaussian quadrature yields\n",
    "  $\\tilde I=\\frac{\\pi}{2}\\bigg[f\\bigg(\\frac{\\pi}{2}(-\\sqrt{3}/3+1)\\bigg)+f\\bigg(\\frac{\\pi}{2}(\\sqrt{3}/3+1)\\bigg)\\bigg]=-2.2439504$, i.e., relative error $0.121975$. Thus, the error decreases as $n$ increases."
   ]
  },
  {
   "cell_type": "code",
   "execution_count": 35,
   "metadata": {},
   "outputs": [],
   "source": [
    "def func(x,*P):\n",
    "    return x*np.cos(x) \n",
    "GQ_n4 = GaussianQ_n4_any_interval(func,0,np.pi,*P)"
   ]
  },
  {
   "cell_type": "code",
   "execution_count": 37,
   "metadata": {},
   "outputs": [
    {
     "name": "stdout",
     "output_type": "stream",
     "text": [
      "n=2 Quadrature: I = -2.243950e+00, relative error = 1.219752e-01\n",
      "n=3 Quadrature: I = -1.991878e+00, relative error = 4.061123e-03\n",
      "n=4 Quadrature: I = -2.000124e+00, relative error = 6.212054e-05\n"
     ]
    }
   ],
   "source": [
    "#copying code from in-class notebook GaussianQuadrature.ipynb\n",
    "\n",
    "def GaussianQ_n3_any_interval(f,a,b,*P):\n",
    "    n = 3\n",
    "    #define nodes on [-1,1] interval(derived above)\n",
    "    t = np.array([-np.sqrt(3/5.),0,np.sqrt(3/5.)])\n",
    "    #define coefficients (derived in GaussianQuadrature.ipynb)\n",
    "    c = np.array([5./9,8./9,5./9])\n",
    "    I = 0\n",
    "    #now sum up the integral based on the n=3 Gaussian Quadrature formula\n",
    "    for j in range(n):\n",
    "        I += (b-a)/2.*c[j]*f(transform_variable(t[j],a,b),*P)\n",
    "    return I\n",
    "def GaussianQ_n2_any_interval(f,a,b,*P):\n",
    "    n = 2\n",
    "    #define nodes on [-1,1] interval(derived above)\n",
    "    t = np.array([-np.sqrt(3)/3.,np.sqrt(3)/3.])\n",
    "    #define coefficients (derived in GaussianQuadrature.ipynb)\n",
    "    c = np.array([1.,1.])\n",
    "    I = 0\n",
    "    #now sum up the integral based on the n=2 Gaussian Quadrature formula\n",
    "    #evaluate f(x(t[j])) with x on the interval [a,b]\n",
    "    for j in range(n):\n",
    "        I += (b-a)/2.*c[j]*f(transform_variable(t[j],a,b),*P)\n",
    "    return I\n",
    "GQ_n2 = GaussianQ_n2_any_interval(func,0,np.pi,*P)\n",
    "GQ_n3 = GaussianQ_n3_any_interval(func,0,np.pi,*P)\n",
    "print(\"n=2 Quadrature: I = %e, relative error = %e\"%(GQ_n2, np.abs(GQ_n2+2)/2))\n",
    "print(\"n=3 Quadrature: I = %e, relative error = %e\"%(GQ_n3, np.abs(GQ_n3+2)/2))\n",
    "print(\"n=4 Quadrature: I = %e, relative error = %e\"%(GQ_n4, np.abs(GQ_n4+2)/2))"
   ]
  },
  {
   "cell_type": "code",
   "execution_count": null,
   "metadata": {},
   "outputs": [],
   "source": []
  }
 ],
 "metadata": {
  "kernelspec": {
   "display_name": "Python 3",
   "language": "python",
   "name": "python3"
  },
  "language_info": {
   "codemirror_mode": {
    "name": "ipython",
    "version": 3
   },
   "file_extension": ".py",
   "mimetype": "text/x-python",
   "name": "python",
   "nbconvert_exporter": "python",
   "pygments_lexer": "ipython3",
   "version": "3.7.7"
  }
 },
 "nbformat": 4,
 "nbformat_minor": 4
}
